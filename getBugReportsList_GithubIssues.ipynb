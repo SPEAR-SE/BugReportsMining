{
 "cells": [
  {
   "cell_type": "markdown",
   "id": "d0bfd7cb-bff6-497d-a5d2-d9a145606a64",
   "metadata": {},
   "source": [
    "#### **Var definitions**\n",
    "Change it whenever necessary"
   ]
  },
  {
   "cell_type": "code",
   "execution_count": 19,
   "id": "0e2af876-773e-4cd7-8153-02aac2680c38",
   "metadata": {},
   "outputs": [],
   "source": [
    "access_oauth_token = \"token <PLACE_HOLDER>\" #TODO: delete before commiting the code\n",
    "repo = \"alibaba/fastjson\"\n",
    "out = '/Users/lorenapacheco/Concordia/Masters/BugReportsMining/bug-reports/'\n",
    "repo_name= repo.split('/')[1]\n",
    "proj = repo_name\n",
    "base_path = '/Users/lorenapacheco/Concordia/Masters/'\n",
    "out_commits_dir = base_path + \"BugReportsMining/commits/\" + repo_name\n",
    "proj_path = base_path + repo_name"
   ]
  },
  {
   "cell_type": "markdown",
   "id": "5d1c51f8-9ac2-44ae-b686-173e38846576",
   "metadata": {},
   "source": [
    "#### **Bug reports mining**\n",
    "Getting all the Github **issues** from the project that are **closed** and have the **bug**'s label"
   ]
  },
  {
   "cell_type": "code",
   "execution_count": 20,
   "id": "8861b339-ca0f-47cd-a74c-9f5d3dadb111",
   "metadata": {},
   "outputs": [
    {
     "name": "stdout",
     "output_type": "stream",
     "text": [
      "[4194, 4078, 3826, 3811, 3808, 3797, 3796, 3770, 3763, 3722, 3682, 3671, 3637, 3631, 3544, 3538, 3469, 3460, 3334, 3329, 3326, 3318, 3313, 3312, 3309, 3287, 3284, 3280, 3267, 3264, 3230, 3223, 3121, 3119, 3109, 3105, 3088, 3083, 3082, 3079, 3066, 3061, 3060, 3057, 3032, 2894, 2580, 2388, 2387, 2375, 2358, 2351, 2348, 2344, 2343, 2341, 2306, 2260, 2257, 2254, 2253, 2251, 2249, 2246, 2240, 2224, 2216, 2210, 2206, 2189, 2165, 2157, 2156, 2130, 2039, 1988, 1987, 1982, 1962, 1945, 1944, 1941, 1939, 1903, 1902, 1901, 1892, 1886, 1878, 1856, 1841, 1839, 1835, 1834, 1833, 1821, 1814, 1785, 1780, 1772, 1769, 1763, 1750, 1723, 1699, 1673, 1665, 1652, 1651, 1649, 1647, 1645, 1644, 1636, 1627, 1614, 1613, 1611, 1603, 1593, 1583, 1580, 1572, 1570, 1569, 1565, 1560, 1548, 1543, 1529, 1526, 1510, 1503, 1496, 1494, 1488, 1482, 1478, 1474, 1462, 1458, 1449, 1444, 1429, 1425, 1423, 1422, 1420, 1407, 1392, 1390, 1375, 1371, 1370, 1367, 1363, 1362, 1361, 1335, 1316, 1307, 1306, 1305, 1300, 1298, 1281, 1276, 1265, 1258, 1240, 1233, 1231, 1225, 1222, 1198, 1188, 1178, 1177, 1161, 1160, 1152, 1150, 1129, 1120, 1112, 1109, 1089, 1083, 1064, 1063, 1053, 1038, 1036, 1035, 1030, 1028, 1020, 1004, 998, 995, 989, 987, 980, 978, 963, 955, 952, 948, 942, 939, 918, 912, 911, 904, 887, 885, 872, 868, 859, 850, 803, 802, 784, 776, 771, 757, 735, 685, 676, 621, 429]\n",
      "\n",
      "Number of issues: 231\n"
     ]
    }
   ],
   "source": [
    "import os\n",
    "import json\n",
    "import requests\n",
    "import pprint\n",
    "\n",
    "def get_git_closed_bug_issues(repo, media_type = \"application/vnd.github+json\"):\n",
    "    issue_numbers_list = []\n",
    "    current_page=1\n",
    "    pagination_end = False\n",
    "    \n",
    "    #iteration throught the pagination\n",
    "    while not pagination_end:\n",
    "        issues_json = requests.get(\n",
    "            \"https://api.github.com/repos/\"+repo+\"/issues?state=closed&labels=bug&page=\"+str(current_page),\n",
    "            headers={\n",
    "                'Accept': media_type,\n",
    "                'Authorization': access_oauth_token\n",
    "            }\n",
    "        ).json()\n",
    "        if len(issues_json) > 0:\n",
    "            for issue in issues_json:\n",
    "                issue_numbers_list.append(issue[\"number\"])\n",
    "            current_page = current_page + 1\n",
    "        else:\n",
    "            pagination_end = True\n",
    "            \n",
    "    return issue_numbers_list\n",
    "\n",
    "\n",
    "issue_numbers_list = get_git_closed_bug_issues(repo)\n",
    "print(issue_numbers_list)\n",
    "print(\"\\nNumber of issues: \" + str(len(issue_numbers_list)))"
   ]
  },
  {
   "cell_type": "markdown",
   "id": "09070d40-c72d-44c4-9002-acc2c6af99b3",
   "metadata": {},
   "source": [
    "#### **Bug reports content extraction**\n",
    "Extraction the content of each of these bug reports"
   ]
  },
  {
   "cell_type": "code",
   "execution_count": 22,
   "id": "c0c4105b-f22d-4931-817c-8fdb09fc9cf4",
   "metadata": {},
   "outputs": [
    {
     "name": "stdout",
     "output_type": "stream",
     "text": [
      "Extraction completed\n"
     ]
    }
   ],
   "source": [
    "output_folder = out + repo_name+ '/'\n",
    "\n",
    "def git_request_br_json(issue_n, repo, media_type = 'application/vnd.github.v3+json'):\n",
    "    retrieved_json = requests.get(\n",
    "        'https://api.github.com/repos/'+repo+'/issues/'+str(issue_n),\n",
    "        headers={\n",
    "            'Accept': media_type,\n",
    "            'Authorization': access_oauth_token\n",
    "        }\n",
    "    ).json()\n",
    "    #pprint.pprint(retrieved_json)\n",
    "    \n",
    "    if 'comments_url' not in retrieved_json:\n",
    "        return\n",
    "    \n",
    "    comment_url = retrieved_json['comments_url']\n",
    "    retrieved_comments = requests.get(\n",
    "        comment_url,\n",
    "        headers={\n",
    "            'Accept': media_type,\n",
    "            'Authorization': access_oauth_token\n",
    "        }\n",
    "    ).json()\n",
    "    retrieved_json['comments_content'] = retrieved_comments\n",
    "    return retrieved_json\n",
    "\n",
    "def dict_to_json_file(file, dic, folder=output_folder):\n",
    "    if not os.path.exists(folder):\n",
    "        os.makedirs(folder)\n",
    "    with open(os.path.join(folder, file+'.json'), 'w') as fp:\n",
    "        json.dump(dic, fp, sort_keys=True, indent=4)\n",
    "    fp.close()\n",
    "\n",
    "\n",
    "for issue_number in issue_numbers_list:\n",
    "    try:\n",
    "        retrieved_json = git_request_br_json(issue_number, repo)\n",
    "    except ConnectionError:\n",
    "        print('ConnectionError', repo, issue_number)\n",
    "        break\n",
    "\n",
    "    if not retrieved_json:\n",
    "        print('Json not retrieved, something might be wrong')\n",
    "        continue\n",
    "\n",
    "    dict_to_json_file(repo_name+'-'+str(issue_number), retrieved_json)\n",
    "print (\"Extraction completed\")"
   ]
  },
  {
   "cell_type": "markdown",
   "id": "c6ed1589-b3fd-47d8-99c5-74281107c879",
   "metadata": {},
   "source": [
    "#### **Filtering for logs and stack traces**\n",
    "Filtering only the bug reports with **logs** and **stack traces**"
   ]
  },
  {
   "cell_type": "code",
   "execution_count": 26,
   "id": "58a404ea-f722-4e74-a151-138d583d3bbb",
   "metadata": {},
   "outputs": [
    {
     "name": "stdout",
     "output_type": "stream",
     "text": [
      "Bug reports with logs:2\n",
      "Bug reports with stack traces:47\n"
     ]
    }
   ],
   "source": [
    "import re\n",
    "import glob\n",
    "from collections import defaultdict\n",
    "\n",
    "# global dict of a dict for storing the log\n",
    "bug_report_log = defaultdict(dict)\n",
    "bug_report_stack_trace = defaultdict(dict)\n",
    "\n",
    "def json_file_to_dict(file):\n",
    "    data = {}\n",
    "    with open(os.path.join(output_folder, file+'.json'), 'r') as fp:\n",
    "        data = json.load(fp)\n",
    "    fp.close()\n",
    "    return data\n",
    "\n",
    "def find_regex(regex, var,file_name, text_content):\n",
    "    results = re.finditer(regex, text_content)\n",
    "    if results:\n",
    "        for log in results:\n",
    "            bug_name = file_name.split('-')[1]\n",
    "            var[proj][bug_name] = log.group() \n",
    "            \n",
    "            \n",
    "def find_logs_and_stack_traces (file_name, text_content):\n",
    "    stack_trace_regex = r'(?m)^.*?Exception.*(?:\\n+^\\s*at .*)+'\n",
    "    logs_regex = r'(ERROR|INFO|WARN|DEBUG|FATAL)\\s+(?P<class>\\w+(\\.\\w+)*)'\n",
    "    find_regex(logs_regex, bug_report_log,file_name, text_content)\n",
    "    find_regex(stack_trace_regex, bug_report_stack_trace,file_name, text_content)\n",
    "    \n",
    "\n",
    "# for every .json in bug-reports folder\n",
    "for file in glob.glob(output_folder +'/*.json'):\n",
    "    file_name = os.path.basename(file).replace('.json', '')\n",
    "    proj = file_name.replace('-'+file_name.split('-')[-1], '').lower()\n",
    "    bug_report = json_file_to_dict(file.replace('.json', ''))\n",
    "    if not bug_report:\n",
    "        continue\n",
    "    \n",
    "    title = bug_report['title'] if bug_report['title'] else \"\"\n",
    "    description = bug_report['body'] if bug_report['body'] else \"\"\n",
    "    text_content = title + '\\n' + description + '\\n' + '\\n'.join([comment['body'] for comment in bug_report['comments_content'] if 'body' in comment and comment['body']])\n",
    "    \n",
    "    find_logs_and_stack_traces(file_name, text_content)\n",
    "\n",
    "print(\"Bug reports with logs:\" + str(len(bug_report_log[proj])))\n",
    "print(\"Bug reports with stack traces:\" + str(len(bug_report_stack_trace[proj])))"
   ]
  },
  {
   "cell_type": "markdown",
   "id": "627054e6-21b9-4327-8c29-7166c5863b4b",
   "metadata": {},
   "source": [
    "#### **Commits search**\n",
    "Searching for the respective commits"
   ]
  },
  {
   "cell_type": "code",
   "execution_count": 34,
   "id": "3ef4e752-9ebf-4602-8600-36dc545b5db5",
   "metadata": {},
   "outputs": [
    {
     "name": "stdout",
     "output_type": "stream",
     "text": [
      "Extraction complete\n",
      "Number obtained: 40\n"
     ]
    }
   ],
   "source": [
    "from urllib.parse import quote\n",
    "\n",
    "bug_reports_with_logs_commits = defaultdict(dict)\n",
    "bug_reports_with_stack_traces_commits = defaultdict(dict)\n",
    "cont = 0\n",
    "\n",
    "def get_bug_report_commit(bug, proj_path):\n",
    "    os.chdir(proj_path)\n",
    "    log_grep_command = \"git log --grep=\"+ bug+\" --pretty=format:\\\"%H\\\" >> commit_output\"\n",
    "    os.system(log_grep_command)\n",
    "    lines = []\n",
    "    with open(\"commit_output\", 'r') as fp:\n",
    "        lines =fp.readlines()\n",
    "        fp.close()\n",
    "    os.system(\"rm commit_output\")\n",
    "    if (lines):\n",
    "        commit_hash = lines[0]\n",
    "        return(commit_hash)\n",
    "    return \"\"\n",
    "\n",
    "for bug in bug_report_log[proj].keys():\n",
    "    commit = get_bug_report_commit(bug, proj_path)\n",
    "    if (commit != \"\"):\n",
    "        content = {\n",
    "            \"log\": bug_report_log[proj][bug],\n",
    "            \"commit\": commit.strip()\n",
    "        }\n",
    "        bug_reports_with_logs_commits[bug] = content\n",
    "        cont = cont + 1\n",
    "\n",
    "for bug in bug_report_stack_trace[proj].keys():\n",
    "    commit = get_bug_report_commit(bug, proj_path)\n",
    "    if (commit != \"\"):\n",
    "        content = {\n",
    "            \"stack_trace\": bug_report_stack_trace[proj][bug],\n",
    "            \"commit\": commit.strip()\n",
    "        }\n",
    "        bug_reports_with_stack_traces_commits[bug] = content\n",
    "        cont = cont + 1\n",
    "\n",
    "if bug_reports_with_logs_commits:\n",
    "    dict_to_json_file(\"bug_reports_with_logs_commits\", bug_reports_with_logs_commits, out_commits_dir)\n",
    "if bug_reports_with_stack_traces_commits:\n",
    "    dict_to_json_file(\"bug_reports_with_stack_traces_commits\", bug_reports_with_stack_traces_commits, out_commits_dir)\n",
    "\n",
    "print(\"Extraction complete\")\n",
    "print(\"Number obtained: \" + str(cont))"
   ]
  },
  {
   "cell_type": "code",
   "execution_count": null,
   "id": "5d5309b9-08f2-459d-84ea-31a1b10d01d2",
   "metadata": {},
   "outputs": [],
   "source": []
  }
 ],
 "metadata": {
  "kernelspec": {
   "display_name": "Python 3 (ipykernel)",
   "language": "python",
   "name": "python3"
  },
  "language_info": {
   "codemirror_mode": {
    "name": "ipython",
    "version": 3
   },
   "file_extension": ".py",
   "mimetype": "text/x-python",
   "name": "python",
   "nbconvert_exporter": "python",
   "pygments_lexer": "ipython3",
   "version": "3.10.6"
  }
 },
 "nbformat": 4,
 "nbformat_minor": 5
}
