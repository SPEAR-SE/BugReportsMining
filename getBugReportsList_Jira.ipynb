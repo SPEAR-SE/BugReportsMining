{
 "cells": [
  {
   "cell_type": "markdown",
   "id": "891bcb8f-4d3c-4ab2-8eda-33d896ae086c",
   "metadata": {},
   "source": [
    "#### **Var definitions**\n",
    "Change it whenever necessary"
   ]
  },
  {
   "cell_type": "code",
   "execution_count": 2,
   "id": "c5d70f7e-8fa5-49e8-acfb-1fc66c19f26a",
   "metadata": {},
   "outputs": [],
   "source": [
    "access_oauth_token = \"token <PLACE_HOLDER>\" #TODO: delete before commiting the code\n",
    "jira_url = \"https://issues.apache.org/jira/\"\n",
    "project_name = \"CLI\"\n",
    "repo_name = \"commons-cli\"\n",
    "base_path = '/Users/lorenapacheco/Concordia/Masters/'\n",
    "out = base_path + \"BugReportsMining/bug-reports/\"\n",
    "proj_path = base_path + repo_name\n",
    "out_commits_dir = base_path + \"BugReportsMining/commits/\" + repo_name"
   ]
  },
  {
   "cell_type": "markdown",
   "id": "5d1c51f8-9ac2-44ae-b686-173e38846576",
   "metadata": {},
   "source": [
    "#### **Bug reports mining**\n",
    "Getting all the **Jira tickets** ids from the project that are **closed** and have the **bug issue type**"
   ]
  },
  {
   "cell_type": "code",
   "execution_count": 3,
   "id": "8861b339-ca0f-47cd-a74c-9f5d3dadb111",
   "metadata": {},
   "outputs": [
    {
     "name": "stdout",
     "output_type": "stream",
     "text": [
      "['CLI-137', 'CLI-193', 'CLI-143', 'CLI-51', 'CLI-17', 'CLI-266', 'CLI-185', 'CLI-252', 'CLI-207', 'CLI-183', 'CLI-224', 'CLI-186', 'CLI-182', 'CLI-241', 'CLI-184', 'CLI-230', 'CLI-159', 'CLI-50', 'CLI-59', 'CLI-9', 'CLI-150', 'CLI-4', 'CLI-41', 'CLI-40', 'CLI-191', 'CLI-151', 'CLI-162', 'CLI-165', 'CLI-164', 'CLI-163', 'CLI-158', 'CLI-154', 'CLI-144', 'CLI-15', 'CLI-6', 'CLI-8', 'CLI-145', 'CLI-61', 'CLI-149', 'CLI-121', 'CLI-71', 'CLI-21', 'CLI-135', 'CLI-134', 'CLI-13', 'CLI-129', 'CLI-38', 'CLI-74', 'CLI-73', 'CLI-72', 'CLI-69', 'CLI-67', 'CLI-65', 'CLI-64', 'CLI-63', 'CLI-62', 'CLI-56', 'CLI-55', 'CLI-52', 'CLI-46', 'CLI-45', 'CLI-44', 'CLI-39', 'CLI-36', 'CLI-33', 'CLI-32', 'CLI-31', 'CLI-30', 'CLI-29', 'CLI-28', 'CLI-26', 'CLI-25', 'CLI-24', 'CLI-23', 'CLI-20', 'CLI-12', 'CLI-11', 'CLI-10', 'CLI-5', 'CLI-3', 'CLI-2', 'CLI-127', 'CLI-308', 'CLI-282', 'CLI-161', 'CLI-248', 'CLI-201', 'CLI-220', 'CLI-204', 'CLI-202', 'CLI-215', 'CLI-209', 'CLI-205', 'CLI-197', 'CLI-203', 'CLI-123', 'CLI-177', 'CLI-175', 'CLI-141', 'CLI-146', 'CLI-139', 'CLI-133', 'CLI-42', 'CLI-35', 'CLI-19', 'CLI-128', 'CLI-200', 'CLI-208', 'CLI-171', 'CLI-156', 'CLI-7']\n",
      "\n",
      "Number of issues: 111\n"
     ]
    }
   ],
   "source": [
    "import os\n",
    "import json\n",
    "import requests\n",
    "import pprint\n",
    "from jira import JIRA\n",
    "\n",
    "issue_numbers_list = []\n",
    "\n",
    "def get_jira_closed_bug_issues(jira_url, project_name):\n",
    "    issue_search_str = \"project = \"+ project_name + \" AND issuetype = Bug AND status = Closed AND resolution in (Fixed, Done, Resolved) ORDER BY priority DESC, updated DESC\"\n",
    "    issues = jira.search_issues(issue_search_str, maxResults=False)\n",
    "    for i in issues:\n",
    "        issue_numbers_list.append(str(i))\n",
    "    print(issue_numbers_list)\n",
    "    print(\"\\nNumber of issues: \" + str(len(issue_numbers_list)))\n",
    "\n",
    "jira = JIRA(server=jira_url)\n",
    "get_jira_closed_bug_issues(jira_url, project_name)"
   ]
  },
  {
   "cell_type": "markdown",
   "id": "09070d40-c72d-44c4-9002-acc2c6af99b3",
   "metadata": {
    "tags": []
   },
   "source": [
    "#### **Bug reports content extraction**\n",
    "Extraction the content of each of these bug reports"
   ]
  },
  {
   "cell_type": "code",
   "execution_count": 4,
   "id": "c0c4105b-f22d-4931-817c-8fdb09fc9cf4",
   "metadata": {},
   "outputs": [
    {
     "name": "stdout",
     "output_type": "stream",
     "text": [
      "Extraction completed\n"
     ]
    }
   ],
   "source": [
    "output_folder = out + repo_name+ '/'\n",
    "\n",
    "def get_bug_comments(issue):\n",
    "    comments = issue.fields.comment.comments\n",
    "    comments_list = []\n",
    "    for c in comments:\n",
    "        comment = {\n",
    "            \"author\": {\n",
    "                \"login\": c.author.key\n",
    "            },\n",
    "            \"authorAssociation\": \"NONE\",\n",
    "            \"body\": c.body,\n",
    "            \"createdAt\": c.created,\n",
    "            \"includesCreatedEdit\": False,\n",
    "            \"isMinimized\": False,\n",
    "            \"minimizedReason\": \"\",\n",
    "            \"reactionGroups\": []\n",
    "        }\n",
    "        comments_list.append(comment)\n",
    "    return comments_list\n",
    "\n",
    "def get_bug_details(issue_number):\n",
    "    issue = jira.issue(issue_number)\n",
    "    bug_details = {\n",
    "        \"title\": issue.fields.summary,\n",
    "        \"body\": issue.fields.description,\n",
    "        \"comments_content\": get_bug_comments(issue),\n",
    "        \"createdAt\": issue.fields.created,\n",
    "        \"id\": issue_number,\n",
    "        \"labels\":[\n",
    "            {\n",
    "                \"name\": issue.fields.issuetype.name,\n",
    "                \"id\": issue.fields.issuetype.id,\n",
    "                \"description\": issue.fields.issuetype.description,\n",
    "                \"color\": None\n",
    "            }\n",
    "        ],\n",
    "        \"number\": issue_number,\n",
    "        \"state\": issue.fields.status.name,\n",
    "        \"updatedAt\": issue.fields.updated,\n",
    "        \"url\": jira_url + \"browse/\"+ issue_number\n",
    "    }\n",
    "    return bug_details\n",
    "    \n",
    "\n",
    "def dict_to_json_file(file, dic, folder=output_folder):\n",
    "    if not os.path.exists(folder):\n",
    "        os.makedirs(folder)\n",
    "    with open(os.path.join(folder, file+'.json'), 'w') as fp:\n",
    "        json.dump(dic, fp, sort_keys=True, indent=4)\n",
    "    fp.close()\n",
    "        \n",
    "for issue_number in issue_numbers_list:\n",
    "    bug_details = get_bug_details(issue_number)\n",
    "    dict_to_json_file(repo_name+'-'+str(issue_number), bug_details)\n",
    "print (\"Extraction completed\")\n",
    "    "
   ]
  },
  {
   "cell_type": "markdown",
   "id": "c6ed1589-b3fd-47d8-99c5-74281107c879",
   "metadata": {},
   "source": [
    "#### **Filtering for logs and stack traces**\n",
    "Filtering only the bug reports with **logs** and **stack traces**"
   ]
  },
  {
   "cell_type": "code",
   "execution_count": 5,
   "id": "58a404ea-f722-4e74-a151-138d583d3bbb",
   "metadata": {},
   "outputs": [
    {
     "name": "stdout",
     "output_type": "stream",
     "text": [
      "Bug reports with logs:0\n",
      "Bug reports with stack traces:7\n"
     ]
    }
   ],
   "source": [
    "import re\n",
    "import glob\n",
    "from collections import defaultdict\n",
    "\n",
    "# global dict of a dict for storing the log\n",
    "bug_report_log = defaultdict(dict)\n",
    "bug_report_stack_trace = defaultdict(dict)\n",
    "\n",
    "def json_file_to_dict(file):\n",
    "    data = {}\n",
    "    with open(os.path.join(output_folder, file+'.json'), 'r') as fp:\n",
    "        data = json.load(fp)\n",
    "    fp.close()\n",
    "    return data\n",
    "\n",
    "def find_regex(regex, var,file_name, text_content):\n",
    "    results = re.finditer(regex, text_content)\n",
    "    if results:\n",
    "        for log in results:\n",
    "            bug_name = file_name.split('-')[-2] + '-' + file_name.split('-')[-1]\n",
    "            var[proj][bug_name] = log.group() \n",
    "            \n",
    "            \n",
    "def find_logs_and_stack_traces (file_name, text_content):\n",
    "    stack_trace_regex = r'(?m)^.*?Exception.*(?:\\n+^\\s*at .*)+'\n",
    "    logs_regex = r'(ERROR|INFO|WARN|DEBUG|FATAL)\\s+(?P<class>\\w+(\\.\\w+)*)'\n",
    "    find_regex(logs_regex, bug_report_log,file_name, text_content)\n",
    "    find_regex(stack_trace_regex, bug_report_stack_trace,file_name, text_content)\n",
    "    \n",
    "\n",
    "# for every .json in bug-reports folder\n",
    "for file in glob.glob(output_folder +'/*.json'):\n",
    "    file_name = os.path.basename(file).replace('.json', '')\n",
    "    proj = file_name.replace('-'+file_name.split('-')[-1], '').replace('-'+file_name.split('-')[-2], '').lower()\n",
    "    bug_report = json_file_to_dict(file.replace('.json', ''))\n",
    "    if not bug_report:\n",
    "        continue\n",
    "    \n",
    "    title = bug_report['title'] if bug_report['title'] else \"\"\n",
    "    description = bug_report['body'] if bug_report['body'] else \"\"\n",
    "    text_content = title + '\\n' + description + '\\n' + '\\n'.join([comment['body'] for comment in bug_report['comments_content'] if 'body' in comment and comment['body']])\n",
    "    find_logs_and_stack_traces(file_name, text_content)\n",
    "\n",
    "print(\"Bug reports with logs:\" + str(len(bug_report_log[proj])))\n",
    "print(\"Bug reports with stack traces:\" + str(len(bug_report_stack_trace[proj])))"
   ]
  },
  {
   "cell_type": "markdown",
   "id": "627054e6-21b9-4327-8c29-7166c5863b4b",
   "metadata": {},
   "source": [
    "#### **Commits search**\n",
    "Searching for the respective commits\n",
    "\n",
    "**TODO:** Figure out a way to decide witch of the commits to use"
   ]
  },
  {
   "cell_type": "code",
   "execution_count": 6,
   "id": "3ef4e752-9ebf-4602-8600-36dc545b5db5",
   "metadata": {},
   "outputs": [
    {
     "name": "stdout",
     "output_type": "stream",
     "text": [
      "Extraction complete\n",
      "Number obtained: 3\n"
     ]
    }
   ],
   "source": [
    "from urllib.parse import quote\n",
    "\n",
    "bug_reports_with_logs_commits = defaultdict(dict)\n",
    "bug_reports_with_stack_traces_commits = defaultdict(dict)\n",
    "cont = 0\n",
    "\n",
    "def get_bug_report_commit(bug, proj_path):\n",
    "    os.chdir(proj_path)\n",
    "    log_grep_command = \"git log --grep=\"+ bug+\" --pretty=format:\\\"%H\\\" >> commit_output\"\n",
    "    os.system(log_grep_command)\n",
    "    lines = []\n",
    "    with open(\"commit_output\", 'r') as fp:\n",
    "        lines =fp.readlines()\n",
    "        fp.close()\n",
    "    os.system(\"rm commit_output\")\n",
    "    if (lines):\n",
    "        commit_hash = lines[0]\n",
    "        return(commit_hash)\n",
    "    return \"\"\n",
    "\n",
    "for bug in bug_report_log[proj].keys():\n",
    "    commit = get_bug_report_commit(bug, proj_path)\n",
    "    if (commit != \"\"):\n",
    "        content = {\n",
    "            \"log\": bug_report_log[proj][bug],\n",
    "            \"commit\": commit.strip()\n",
    "        }\n",
    "        bug_reports_with_logs_commits[bug] = content\n",
    "        cont = cont + 1\n",
    "\n",
    "for bug in bug_report_stack_trace[proj].keys():\n",
    "    commit = get_bug_report_commit(bug, proj_path)\n",
    "    if (commit != \"\"):\n",
    "        content = {\n",
    "            \"stack_trace\": bug_report_stack_trace[proj][bug],\n",
    "            \"commit\": commit.strip()\n",
    "        }\n",
    "        bug_reports_with_stack_traces_commits[bug] = content\n",
    "        cont = cont + 1\n",
    "\n",
    "if bug_reports_with_logs_commits:\n",
    "    dict_to_json_file(\"bug_reports_with_logs_commits\", bug_reports_with_logs_commits, out_commits_dir)\n",
    "if bug_reports_with_stack_traces_commits:\n",
    "    dict_to_json_file(\"bug_reports_with_stack_traces_commits\", bug_reports_with_stack_traces_commits, out_commits_dir)\n",
    "\n",
    "print(\"Extraction complete\")\n",
    "print(\"Number obtained: \" + str(cont))"
   ]
  },
  {
   "cell_type": "code",
   "execution_count": null,
   "id": "91bc9ef0-e1bc-4b9d-83ff-8234dc98ceb0",
   "metadata": {},
   "outputs": [],
   "source": []
  }
 ],
 "metadata": {
  "kernelspec": {
   "display_name": "Python 3 (ipykernel)",
   "language": "python",
   "name": "python3"
  },
  "language_info": {
   "codemirror_mode": {
    "name": "ipython",
    "version": 3
   },
   "file_extension": ".py",
   "mimetype": "text/x-python",
   "name": "python",
   "nbconvert_exporter": "python",
   "pygments_lexer": "ipython3",
   "version": "3.10.6"
  }
 },
 "nbformat": 4,
 "nbformat_minor": 5
}
