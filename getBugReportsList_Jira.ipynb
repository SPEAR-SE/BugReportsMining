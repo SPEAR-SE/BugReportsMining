{
 "cells": [
  {
   "cell_type": "markdown",
   "id": "891bcb8f-4d3c-4ab2-8eda-33d896ae086c",
   "metadata": {},
   "source": [
    "#### **Var definitions**\n",
    "Change it whenever necessary"
   ]
  },
  {
   "cell_type": "code",
   "execution_count": 59,
   "id": "c5d70f7e-8fa5-49e8-acfb-1fc66c19f26a",
   "metadata": {},
   "outputs": [],
   "source": [
    "access_oauth_token = \"token <PLACE_HOLDER>\" #TODO: delete before commiting the code\n",
    "jira_url = \"https://issues.apache.org/jira/\"\n",
    "project_name = \"LANG\"\n",
    "repo_name = \"commons-lang\"\n",
    "proj = repo_name\n",
    "base_path = '/Users/lorenapacheco/Concordia/Masters/'\n",
    "out = base_path + \"BugReportsMining/bug-reports/\"\n",
    "proj_path = base_path + \"open_source_repos_being_studied/\" + repo_name\n",
    "out_commits_dir = base_path + \"BugReportsMining/commits/\" + repo_name"
   ]
  },
  {
   "cell_type": "markdown",
   "id": "5d1c51f8-9ac2-44ae-b686-173e38846576",
   "metadata": {},
   "source": [
    "#### **Bug reports mining**\n",
    "Getting all the **Jira tickets** ids from the project that are **closed** and have the **bug issue type**"
   ]
  },
  {
   "cell_type": "code",
   "execution_count": 55,
   "id": "8861b339-ca0f-47cd-a74c-9f5d3dadb111",
   "metadata": {},
   "outputs": [
    {
     "name": "stdout",
     "output_type": "stream",
     "text": [
      "['LANG-1245', 'LANG-987', 'LANG-45', 'LANG-805', 'LANG-421', 'LANG-20', 'LANG-1419', 'LANG-1292', 'LANG-1147', 'LANG-1003', 'LANG-759', 'LANG-549', 'LANG-262', 'LANG-42', 'LANG-26', 'LANG-123', 'LANG-1667', 'LANG-1669', 'LANG-1630', 'LANG-1613', 'LANG-1596', 'LANG-1543', 'LANG-1395', 'LANG-1396', 'LANG-1397', 'LANG-1060', 'LANG-1384', 'LANG-1364', 'LANG-1361', 'LANG-1348', 'LANG-1349', 'LANG-1350', 'LANG-1355', 'LANG-1360', 'LANG-1357', 'LANG-1287', 'LANG-1265', 'LANG-1320', 'LANG-1285', 'LANG-1310', 'LANG-1276', 'LANG-1144', 'LANG-1319', 'LANG-1214', 'LANG-1199', 'LANG-1286', 'LANG-1216', 'LANG-1202', 'LANG-1131', 'LANG-1018', 'LANG-1192', 'LANG-1252', 'LANG-1261', 'LANG-1122', 'LANG-1194', 'LANG-1132', 'LANG-1123', 'LANG-1190', 'LANG-1114', 'LANG-1248', 'LANG-1120', 'LANG-1128', 'LANG-1251', 'LANG-1141', 'LANG-1219', 'LANG-1178', 'LANG-1040', 'LANG-1226', 'LANG-1230', 'LANG-1116', 'LANG-1038', 'LANG-1205', 'LANG-1126', 'LANG-1232', 'LANG-1162', 'LANG-1163', 'LANG-1262', 'LANG-1193', 'LANG-1002', 'LANG-916', 'LANG-1229', 'LANG-1041', 'LANG-1125', 'LANG-1213', 'LANG-1142', 'LANG-467', 'LANG-1092', 'LANG-1087', 'LANG-995', 'LANG-1035', 'LANG-1004', 'LANG-1055', 'LANG-1001', 'LANG-1061', 'LANG-1064', 'LANG-794', 'LANG-1104', 'LANG-1089', 'LANG-948', 'LANG-996', 'LANG-879', 'LANG-56', 'LANG-972', 'LANG-951', 'LANG-984', 'LANG-978', 'LANG-981', 'LANG-982', 'LANG-983', 'LANG-943', 'LANG-946', 'LANG-961', 'LANG-977', 'LANG-954', 'LANG-938', 'LANG-921', 'LANG-928', 'LANG-905', 'LANG-917', 'LANG-786', 'LANG-818', 'LANG-677', 'LANG-369', 'LANG-86', 'LANG-53', 'LANG-63', 'LANG-9', 'LANG-132', 'LANG-77', 'LANG-314', 'LANG-152', 'LANG-81', 'LANG-31', 'LANG-33', 'LANG-137', 'LANG-37', 'LANG-112', 'LANG-2', 'LANG-75', 'LANG-136', 'LANG-38', 'LANG-74', 'LANG-28', 'LANG-129', 'LANG-107', 'LANG-641', 'LANG-143', 'LANG-896', 'LANG-817', 'LANG-865', 'LANG-747', 'LANG-836', 'LANG-810', 'LANG-822', 'LANG-887', 'LANG-831', 'LANG-826', 'LANG-920', 'LANG-849', 'LANG-832', 'LANG-899', 'LANG-803', 'LANG-828', 'LANG-538', 'LANG-440', 'LANG-412', 'LANG-79', 'LANG-126', 'LANG-57', 'LANG-124', 'LANG-882', 'LANG-876', 'LANG-339', 'LANG-775', 'LANG-788', 'LANG-814', 'LANG-776', 'LANG-813', 'LANG-802', 'LANG-765', 'LANG-626', 'LANG-734', 'LANG-744', 'LANG-746', 'LANG-736', 'LANG-749', 'LANG-564', 'LANG-741', 'LANG-720', 'LANG-719', 'LANG-593', 'LANG-708', 'LANG-703', 'LANG-658', 'LANG-659', 'LANG-691', 'LANG-83', 'LANG-608', 'LANG-4', 'LANG-80', 'LANG-39', 'LANG-96', 'LANG-110', 'LANG-35', 'LANG-27', 'LANG-157', 'LANG-69', 'LANG-683', 'LANG-682', 'LANG-636', 'LANG-624', 'LANG-302', 'LANG-664', 'LANG-59', 'LANG-629', 'LANG-645', 'LANG-638', 'LANG-630', 'LANG-602', 'LANG-587', 'LANG-586', 'LANG-584', 'LANG-506', 'LANG-472', 'LANG-76', 'LANG-557', 'LANG-463', 'LANG-436', 'LANG-487', 'LANG-459', 'LANG-575', 'LANG-552', 'LANG-432', 'LANG-457', 'LANG-477', 'LANG-530', 'LANG-494', 'LANG-567', 'LANG-585', 'LANG-571', 'LANG-568', 'LANG-66', 'LANG-478', 'LANG-468', 'LANG-11', 'LANG-448', 'LANG-439', 'LANG-117', 'LANG-120', 'LANG-13', 'LANG-346', 'LANG-3', 'LANG-41', 'LANG-130', 'LANG-106', 'LANG-158', 'LANG-5', 'LANG-7', 'LANG-147', 'LANG-148', 'LANG-78', 'LANG-99', 'LANG-15', 'LANG-300', 'LANG-367', 'LANG-381', 'LANG-380', 'LANG-360', 'LANG-368', 'LANG-365', 'LANG-334', 'LANG-328', 'LANG-299', 'LANG-295', 'LANG-294', 'LANG-281', 'LANG-150', 'LANG-141', 'LANG-140', 'LANG-105', 'LANG-102', 'LANG-100', 'LANG-10', 'LANG-315', 'LANG-286', 'LANG-313', 'LANG-303', 'LANG-304', 'LANG-259', 'LANG-271', 'LANG-50', 'LANG-89', 'LANG-93', 'LANG-30', 'LANG-61', 'LANG-121', 'LANG-87', 'LANG-48', 'LANG-73', 'LANG-16', 'LANG-146', 'LANG-12', 'LANG-71', 'LANG-49', 'LANG-55', 'LANG-47', 'LANG-151', 'LANG-111', 'LANG-90', 'LANG-36', 'LANG-113', 'LANG-94', 'LANG-84', 'LANG-155', 'LANG-70', 'LANG-142', 'LANG-144', 'LANG-103', 'LANG-118', 'LANG-125', 'LANG-14', 'LANG-131', 'LANG-133', 'LANG-62', 'LANG-149', 'LANG-138', 'LANG-134', 'LANG-156', 'LANG-19', 'LANG-43', 'LANG-119', 'LANG-6', 'LANG-128', 'LANG-1637', 'LANG-1514', 'LANG-1271', 'LANG-1500', 'LANG-1371', 'LANG-1401', 'LANG-1370', 'LANG-1380', 'LANG-1391', 'LANG-1385', 'LANG-1362', 'LANG-1281', 'LANG-1337', 'LANG-1188', 'LANG-1311', 'LANG-1314', 'LANG-1312', 'LANG-1186', 'LANG-1094', 'LANG-991', 'LANG-1118', 'LANG-1069', 'LANG-1133', 'LANG-1242', 'LANG-1191', 'LANG-901', 'LANG-1182', 'LANG-1210', 'LANG-1152', 'LANG-1112', 'LANG-979', 'LANG-1228', 'LANG-915', 'LANG-950', 'LANG-799', 'LANG-393', 'LANG-1073', 'LANG-1090', 'LANG-1072', 'LANG-1000', 'LANG-1071', 'LANG-971', 'LANG-969', 'LANG-613', 'LANG-819', 'LANG-936', 'LANG-934', 'LANG-844', 'LANG-858', 'LANG-857', 'LANG-279', 'LANG-135', 'LANG-85', 'LANG-154', 'LANG-292', 'LANG-685', 'LANG-1', 'LANG-139', 'LANG-272', 'LANG-902', 'LANG-754', 'LANG-913', 'LANG-881', 'LANG-693', 'LANG-838', 'LANG-894', 'LANG-868', 'LANG-773', 'LANG-807', 'LANG-772', 'LANG-743', 'LANG-764', 'LANG-728', 'LANG-710', 'LANG-460', 'LANG-428', 'LANG-646', 'LANG-662', 'LANG-663', 'LANG-617', 'LANG-596', 'LANG-643', 'LANG-635', 'LANG-628', 'LANG-631', 'LANG-606', 'LANG-419', 'LANG-521', 'LANG-535', 'LANG-481', 'LANG-122', 'LANG-474', 'LANG-480', 'LANG-24', 'LANG-25', 'LANG-410', 'LANG-82', 'LANG-277', 'LANG-95', 'LANG-32', 'LANG-418', 'LANG-442', 'LANG-363', 'LANG-399', 'LANG-385', 'LANG-353', 'LANG-327', 'LANG-97', 'LANG-91', 'LANG-145', 'LANG-51', 'LANG-116', 'LANG-1474', 'LANG-1374', 'LANG-1278', 'LANG-727', 'LANG-1200', 'LANG-958', 'LANG-1083', 'LANG-1081', 'LANG-127', 'LANG-761', 'LANG-777', 'LANG-800', 'LANG-672', 'LANG-783', 'LANG-656', 'LANG-581', 'LANG-261', 'LANG-278', 'LANG-364', 'LANG-361', 'LANG-265', 'LANG-264']\n",
      "\n",
      "Number of issues: 467\n"
     ]
    }
   ],
   "source": [
    "import os\n",
    "import json\n",
    "import requests\n",
    "import pprint\n",
    "from jira import JIRA\n",
    "\n",
    "issue_numbers_list = []\n",
    "\n",
    "def get_jira_closed_bug_issues(jira_url, project_name):\n",
    "    issue_search_str = \"project = \"+ project_name + \" AND issuetype = Bug AND status = Closed AND resolution in (Fixed, Done, Resolved) ORDER BY priority DESC, updated DESC\"\n",
    "    issues = jira.search_issues(issue_search_str, maxResults=False)\n",
    "    for i in issues:\n",
    "        issue_numbers_list.append(str(i))\n",
    "    print(issue_numbers_list)\n",
    "    print(\"\\nNumber of issues: \" + str(len(issue_numbers_list)))\n",
    "\n",
    "jira = JIRA(server=jira_url)\n",
    "get_jira_closed_bug_issues(jira_url, project_name)"
   ]
  },
  {
   "cell_type": "markdown",
   "id": "09070d40-c72d-44c4-9002-acc2c6af99b3",
   "metadata": {
    "tags": []
   },
   "source": [
    "#### **Bug reports content extraction**\n",
    "Extraction the content of each of these bug reports"
   ]
  },
  {
   "cell_type": "code",
   "execution_count": 62,
   "id": "c0c4105b-f22d-4931-817c-8fdb09fc9cf4",
   "metadata": {},
   "outputs": [
    {
     "name": "stdout",
     "output_type": "stream",
     "text": [
      "Extraction completed\n"
     ]
    }
   ],
   "source": [
    "output_folder = out + repo_name+ '/'\n",
    "\n",
    "def get_bug_comments(issue):\n",
    "    comments = issue.fields.comment.comments\n",
    "    comments_list = []\n",
    "    for c in comments:\n",
    "        comment = {\n",
    "            \"author\": {\n",
    "                \"login\": c.author.key\n",
    "            },\n",
    "            \"authorAssociation\": \"NONE\",\n",
    "            \"body\": c.body,\n",
    "            \"createdAt\": c.created,\n",
    "            \"includesCreatedEdit\": False,\n",
    "            \"isMinimized\": False,\n",
    "            \"minimizedReason\": \"\",\n",
    "            \"reactionGroups\": []\n",
    "        }\n",
    "        comments_list.append(comment)\n",
    "    return comments_list\n",
    "\n",
    "def get_bug_details(issue_number):\n",
    "    issue = jira.issue(issue_number)\n",
    "    bug_details = {\n",
    "        \"title\": issue.fields.summary,\n",
    "        \"body\": issue.fields.description,\n",
    "        \"comments_content\": get_bug_comments(issue),\n",
    "        \"createdAt\": issue.fields.created,\n",
    "        \"id\": issue_number,\n",
    "        \"labels\":[\n",
    "            {\n",
    "                \"name\": issue.fields.issuetype.name,\n",
    "                \"id\": issue.fields.issuetype.id,\n",
    "                \"description\": issue.fields.issuetype.description,\n",
    "                \"color\": None\n",
    "            }\n",
    "        ],\n",
    "        \"number\": issue_number,\n",
    "        \"state\": issue.fields.status.name,\n",
    "        \"updatedAt\": issue.fields.updated,\n",
    "        \"url\": jira_url + \"browse/\"+ issue_number\n",
    "    }\n",
    "    return bug_details\n",
    "    \n",
    "\n",
    "def dict_to_json_file(file, dic, folder=output_folder):\n",
    "    if not os.path.exists(folder):\n",
    "        os.makedirs(folder)\n",
    "    with open(os.path.join(folder, file+'.json'), 'w') as fp:\n",
    "        json.dump(dic, fp, sort_keys=True, indent=4)\n",
    "    fp.close()\n",
    "        \n",
    "for issue_number in issue_numbers_list:\n",
    "    bug_details = get_bug_details(issue_number)\n",
    "    dict_to_json_file(repo_name+'-'+str(issue_number), bug_details)\n",
    "print (\"Extraction completed\")\n",
    "    "
   ]
  },
  {
   "cell_type": "markdown",
   "id": "c6ed1589-b3fd-47d8-99c5-74281107c879",
   "metadata": {},
   "source": [
    "#### **Filtering for logs and stack traces**\n",
    "Filtering only the bug reports with **logs** and **stack traces**"
   ]
  },
  {
   "cell_type": "code",
   "execution_count": 63,
   "id": "58a404ea-f722-4e74-a151-138d583d3bbb",
   "metadata": {},
   "outputs": [
    {
     "name": "stdout",
     "output_type": "stream",
     "text": [
      "commons-lang\n",
      "Bug reports with logs:3\n",
      "Bug reports with stack traces:27\n"
     ]
    }
   ],
   "source": [
    "import re\n",
    "import glob\n",
    "from collections import defaultdict\n",
    "\n",
    "# global dict of a dict for storing the log\n",
    "bug_report_log = defaultdict(dict)\n",
    "bug_report_stack_trace = defaultdict(dict)\n",
    "\n",
    "def json_file_to_dict(file):\n",
    "    data = {}\n",
    "    with open(os.path.join(output_folder, file+'.json'), 'r') as fp:\n",
    "        data = json.load(fp)\n",
    "    fp.close()\n",
    "    return data\n",
    "\n",
    "def find_regex(regex, var,file_name, text_content):\n",
    "    results = re.finditer(regex, text_content)\n",
    "    if results:\n",
    "        for log in results:\n",
    "            bug_name = file_name.split('-')[-2] + '-' + file_name.split('-')[-1]\n",
    "            var[proj][bug_name] = log.group() \n",
    "            \n",
    "            \n",
    "def find_logs_and_stack_traces (file_name, text_content):\n",
    "    stack_trace_regex = r'(?m)^.*?Exception.*(?:\\n+^\\s*at .*)+'\n",
    "    logs_regex = r'(ERROR|INFO|WARN|DEBUG|FATAL)\\s+(?P<class>\\w+(\\.\\w+)*)'\n",
    "    find_regex(logs_regex, bug_report_log,file_name, text_content)\n",
    "    find_regex(stack_trace_regex, bug_report_stack_trace,file_name, text_content)\n",
    "    \n",
    "\n",
    "# for every .json in bug-reports folder\n",
    "for file in glob.glob(output_folder +'/*.json'):\n",
    "    file_name = os.path.basename(file).replace('.json', '')\n",
    "    bug_report = json_file_to_dict(file.replace('.json', ''))\n",
    "    if not bug_report:\n",
    "        continue\n",
    "    \n",
    "    title = bug_report['title'] if bug_report['title'] else \"\"\n",
    "    description = bug_report['body'] if bug_report['body'] else \"\"\n",
    "    text_content = title + '\\n' + description + '\\n' + '\\n'.join([comment['body'] for comment in bug_report['comments_content'] if 'body' in comment and comment['body']])\n",
    "    find_logs_and_stack_traces(file_name, text_content)\n",
    "\n",
    "print(proj)\n",
    "print(\"Bug reports with logs:\" + str(len(bug_report_log[proj])))\n",
    "print(\"Bug reports with stack traces:\" + str(len(bug_report_stack_trace[proj])))"
   ]
  },
  {
   "cell_type": "markdown",
   "id": "627054e6-21b9-4327-8c29-7166c5863b4b",
   "metadata": {},
   "source": [
    "#### **Commits search**\n",
    "Searching for the respective commits\n",
    "\n",
    "**TODO:** Figure out a way to decide witch of the commits to use"
   ]
  },
  {
   "cell_type": "code",
   "execution_count": 64,
   "id": "3ef4e752-9ebf-4602-8600-36dc545b5db5",
   "metadata": {},
   "outputs": [
    {
     "name": "stdout",
     "output_type": "stream",
     "text": [
      "Extraction completed\n",
      "Number obtained: 24\n"
     ]
    }
   ],
   "source": [
    "from urllib.parse import quote\n",
    "\n",
    "bug_reports_with_logs_commits = defaultdict(dict)\n",
    "bug_reports_with_stack_traces_commits = defaultdict(dict)\n",
    "cont = 0\n",
    "\n",
    "def get_bug_report_commit(bug, proj_path):\n",
    "    os.chdir(proj_path)\n",
    "    log_grep_command = \"git log --grep=\\\"\"+ str(bug)+\"[^0-9]\\\" --grep=\\\"\"+ str(bug)+\"$\\\" --pretty=format:\\\"%H\\\" >> commit_output\"\n",
    "    os.system(log_grep_command)\n",
    "    lines = []\n",
    "    with open(\"commit_output\", 'r') as fp:\n",
    "        lines =fp.readlines()\n",
    "        fp.close()\n",
    "    os.system(\"rm commit_output\")\n",
    "    if (lines):\n",
    "        commit_hash = lines[0]\n",
    "        return(commit_hash)\n",
    "    return \"\"\n",
    "\n",
    "for bug in bug_report_log[proj].keys():\n",
    "    commit = get_bug_report_commit(bug, proj_path)\n",
    "    if (commit != \"\"):\n",
    "        content = {\n",
    "            \"log\": bug_report_log[proj][bug],\n",
    "            \"commit\": commit.strip()\n",
    "        }\n",
    "        bug_reports_with_logs_commits[bug] = content\n",
    "        cont = cont + 1\n",
    "\n",
    "for bug in bug_report_stack_trace[proj].keys():\n",
    "    commit = get_bug_report_commit(bug, proj_path)\n",
    "    if (commit != \"\"):\n",
    "        content = {\n",
    "            \"stack_trace\": bug_report_stack_trace[proj][bug],\n",
    "            \"commit\": commit.strip()\n",
    "        }\n",
    "        bug_reports_with_stack_traces_commits[bug] = content\n",
    "        cont = cont + 1\n",
    "\n",
    "if bug_reports_with_logs_commits:\n",
    "    dict_to_json_file(\"bug_reports_with_logs_commits\", bug_reports_with_logs_commits, out_commits_dir)\n",
    "if bug_reports_with_stack_traces_commits:\n",
    "    dict_to_json_file(\"bug_reports_with_stack_traces_commits\", bug_reports_with_stack_traces_commits, out_commits_dir)\n",
    "\n",
    "print(\"Extraction completed\")\n",
    "print(\"Number obtained: \" + str(cont))"
   ]
  },
  {
   "cell_type": "code",
   "execution_count": null,
   "id": "91bc9ef0-e1bc-4b9d-83ff-8234dc98ceb0",
   "metadata": {},
   "outputs": [],
   "source": []
  }
 ],
 "metadata": {
  "kernelspec": {
   "display_name": "Python 3 (ipykernel)",
   "language": "python",
   "name": "python3"
  },
  "language_info": {
   "codemirror_mode": {
    "name": "ipython",
    "version": 3
   },
   "file_extension": ".py",
   "mimetype": "text/x-python",
   "name": "python",
   "nbconvert_exporter": "python",
   "pygments_lexer": "ipython3",
   "version": "3.10.6"
  },
  "vscode": {
   "interpreter": {
    "hash": "13b39b9c1f4a3ce65bb85def5b82b636fecd8f608eb452a063e789d45af2aad2"
   }
  }
 },
 "nbformat": 4,
 "nbformat_minor": 5
}
