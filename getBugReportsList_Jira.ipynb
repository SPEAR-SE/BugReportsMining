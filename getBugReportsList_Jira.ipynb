{
 "cells": [
  {
   "cell_type": "markdown",
   "id": "891bcb8f-4d3c-4ab2-8eda-33d896ae086c",
   "metadata": {},
   "source": [
    "#### **Var definitions**\n",
    "Change it whenever necessary"
   ]
  },
  {
   "cell_type": "code",
   "execution_count": 33,
   "id": "c5d70f7e-8fa5-49e8-acfb-1fc66c19f26a",
   "metadata": {},
   "outputs": [],
   "source": [
    "access_oauth_token = \"token <PLACE_HOLDER>\" #TODO: delete before commiting the code\n",
    "jira_url = \"https://issues.apache.org/jira/\"\n",
    "project_name = \"MATH\"\n",
    "repo_name = \"commons-math\"\n",
    "proj = repo_name\n",
    "base_path = '/Users/lorenapacheco/Concordia/Masters/'\n",
    "out = base_path + \"BugReportsMining/bug-reports/\"\n",
    "proj_path = base_path + \"open_source_repos_being_studied/\" + repo_name\n",
    "out_commits_dir = base_path + \"BugReportsMining/commits/\" + repo_name"
   ]
  },
  {
   "cell_type": "markdown",
   "id": "5d1c51f8-9ac2-44ae-b686-173e38846576",
   "metadata": {},
   "source": [
    "#### **Bug reports mining**\n",
    "Getting all the **Jira tickets** ids from the project that are **closed** and have the **bug issue type**"
   ]
  },
  {
   "cell_type": "code",
   "execution_count": 34,
   "id": "8861b339-ca0f-47cd-a74c-9f5d3dadb111",
   "metadata": {},
   "outputs": [
    {
     "name": "stdout",
     "output_type": "stream",
     "text": [
      "['MATH-60', 'MATH-940', 'MATH-915', 'MATH-922', 'MATH-916', 'MATH-429', 'MATH-283', 'MATH-1167', 'MATH-1070', 'MATH-961', 'MATH-947', 'MATH-929', 'MATH-950', 'MATH-924', 'MATH-109', 'MATH-96', 'MATH-153', 'MATH-41', 'MATH-54', 'MATH-327', 'MATH-464', 'MATH-572', 'MATH-352', 'MATH-343', 'MATH-344', 'MATH-358', 'MATH-200', 'MATH-1166', 'MATH-1505', 'MATH-1342', 'MATH-1252', 'MATH-1246', 'MATH-1118', 'MATH-1300', 'MATH-1297', 'MATH-1251', 'MATH-1197', 'MATH-1302', 'MATH-1269', 'MATH-1237', 'MATH-1266', 'MATH-1310', 'MATH-1255', 'MATH-1303', 'MATH-1203', 'MATH-1208', 'MATH-1209', 'MATH-1211', 'MATH-1191', 'MATH-1204', 'MATH-1149', 'MATH-1154', 'MATH-1162', 'MATH-1127', 'MATH-984', 'MATH-1174', 'MATH-1148', 'MATH-1145', 'MATH-1125', 'MATH-1131', 'MATH-1129', 'MATH-1123', 'MATH-1146', 'MATH-1138', 'MATH-1181', 'MATH-1152', 'MATH-985', 'MATH-821', 'MATH-1103', 'MATH-1005', 'MATH-1019', 'MATH-1089', 'MATH-1115', 'MATH-1110', 'MATH-1107', 'MATH-1093', 'MATH-989', 'MATH-1065', 'MATH-1059', 'MATH-1020', 'MATH-1106', 'MATH-1033', 'MATH-1036', 'MATH-1092', 'MATH-1021', 'MATH-1082', 'MATH-1101', 'MATH-803', 'MATH-965', 'MATH-1022', 'MATH-995', 'MATH-988', 'MATH-1051', 'MATH-1067', 'MATH-1117', 'MATH-1062', 'MATH-1017', 'MATH-888', 'MATH-960', 'MATH-957', 'MATH-949', 'MATH-942', 'MATH-939', 'MATH-938', 'MATH-937', 'MATH-936', 'MATH-891', 'MATH-580', 'MATH-828', 'MATH-780', 'MATH-927', 'MATH-798', 'MATH-801', 'MATH-865', 'MATH-778', 'MATH-905', 'MATH-876', 'MATH-848', 'MATH-782', 'MATH-779', 'MATH-781', 'MATH-812', 'MATH-718', 'MATH-867', 'MATH-904', 'MATH-785', 'MATH-880', 'MATH-789', 'MATH-802', 'MATH-776', 'MATH-864', 'MATH-721', 'MATH-881', 'MATH-793', 'MATH-775', 'MATH-19', 'MATH-406', 'MATH-86', 'MATH-4', 'MATH-39', 'MATH-720', 'MATH-99', 'MATH-405', 'MATH-87', 'MATH-88', 'MATH-32', 'MATH-76', 'MATH-24', 'MATH-16', 'MATH-80', 'MATH-101', 'MATH-18', 'MATH-63', 'MATH-28', 'MATH-8', 'MATH-45', 'MATH-81', 'MATH-36', 'MATH-26', 'MATH-29', 'MATH-44', 'MATH-48', 'MATH-31', 'MATH-67', 'MATH-69', 'MATH-100', 'MATH-58', 'MATH-3', 'MATH-12', 'MATH-103', 'MATH-84', 'MATH-35', 'MATH-50', 'MATH-64', 'MATH-51', 'MATH-97', 'MATH-15', 'MATH-94', 'MATH-53', 'MATH-25', 'MATH-1', 'MATH-79', 'MATH-91', 'MATH-6', 'MATH-73', 'MATH-20', 'MATH-17', 'MATH-11', 'MATH-110', 'MATH-43', 'MATH-21', 'MATH-106', 'MATH-465', 'MATH-652', 'MATH-452', 'MATH-695', 'MATH-373', 'MATH-582', 'MATH-704', 'MATH-705', 'MATH-579', 'MATH-584', 'MATH-640', 'MATH-744', 'MATH-631', 'MATH-596', 'MATH-422', 'MATH-648', 'MATH-723', 'MATH-701', 'MATH-619', 'MATH-727', 'MATH-554', 'MATH-604', 'MATH-413', 'MATH-383', 'MATH-505', 'MATH-470', 'MATH-770', 'MATH-645', 'MATH-466', 'MATH-639', 'MATH-540', 'MATH-583', 'MATH-453', 'MATH-654', 'MATH-588', 'MATH-706', 'MATH-713', 'MATH-601', 'MATH-434', 'MATH-728', 'MATH-618', 'MATH-665', 'MATH-724', 'MATH-519', 'MATH-709', 'MATH-673', 'MATH-715', 'MATH-320', 'MATH-502', 'MATH-499', 'MATH-494', 'MATH-493', 'MATH-489', 'MATH-486', 'MATH-484', 'MATH-483', 'MATH-482', 'MATH-481', 'MATH-480', 'MATH-479', 'MATH-472', 'MATH-471', 'MATH-424', 'MATH-411', 'MATH-409', 'MATH-408', 'MATH-407', 'MATH-398', 'MATH-395', 'MATH-391', 'MATH-388', 'MATH-377', 'MATH-371', 'MATH-362', 'MATH-301', 'MATH-390', 'MATH-286', 'MATH-288', 'MATH-290', 'MATH-292', 'MATH-293', 'MATH-294', 'MATH-296', 'MATH-297', 'MATH-298', 'MATH-299', 'MATH-302', 'MATH-306', 'MATH-307', 'MATH-308', 'MATH-282', 'MATH-318', 'MATH-322', 'MATH-326', 'MATH-333', 'MATH-338', 'MATH-340', 'MATH-342', 'MATH-347', 'MATH-354', 'MATH-360', 'MATH-257', 'MATH-341', 'MATH-305', 'MATH-207', 'MATH-197', 'MATH-280', 'MATH-273', 'MATH-272', 'MATH-267', 'MATH-259', 'MATH-258', 'MATH-254', 'MATH-253', 'MATH-252', 'MATH-241', 'MATH-226', 'MATH-214', 'MATH-209', 'MATH-206', 'MATH-199', 'MATH-198', 'MATH-191', 'MATH-183', 'MATH-175', 'MATH-151', 'MATH-112', 'MATH-108', 'MATH-102', 'MATH-95', 'MATH-93', 'MATH-92', 'MATH-78', 'MATH-77', 'MATH-74', 'MATH-71', 'MATH-68', 'MATH-65', 'MATH-61', 'MATH-59', 'MATH-57', 'MATH-56', 'MATH-55', 'MATH-49', 'MATH-47', 'MATH-40', 'MATH-30', 'MATH-27', 'MATH-23', 'MATH-22', 'MATH-14', 'MATH-13', 'MATH-10', 'MATH-9', 'MATH-7', 'MATH-2', 'MATH-42', 'MATH-85', 'MATH-699', 'MATH-1006', 'MATH-1261', 'MATH-1258', 'MATH-1256', 'MATH-1225', 'MATH-1277', 'MATH-1116', 'MATH-1259', 'MATH-1283', 'MATH-1224', 'MATH-1257', 'MATH-1294', 'MATH-1272', 'MATH-1241', 'MATH-1245', 'MATH-1254', 'MATH-1223', 'MATH-1295', 'MATH-1226', 'MATH-1214', 'MATH-1165', 'MATH-1151', 'MATH-1175', 'MATH-1136', 'MATH-1141', 'MATH-1135', 'MATH-1156', 'MATH-1057', 'MATH-1029', 'MATH-996', 'MATH-1045', 'MATH-1058', 'MATH-1037', 'MATH-1088', 'MATH-962', 'MATH-993', 'MATH-1056', 'MATH-1068', 'MATH-1080', 'MATH-955', 'MATH-935', 'MATH-934', 'MATH-930', 'MATH-914', 'MATH-843', 'MATH-899', 'MATH-903', 'MATH-790', 'MATH-900', 'MATH-836', 'MATH-844', 'MATH-578', 'MATH-644', 'MATH-855', 'MATH-759', 'MATH-835', 'MATH-83', 'MATH-227', 'MATH-556', 'MATH-692', 'MATH-560', 'MATH-201', 'MATH-204', 'MATH-679', 'MATH-691', 'MATH-575', 'MATH-551', 'MATH-546', 'MATH-552', 'MATH-722', 'MATH-702', 'MATH-555', 'MATH-538', 'MATH-430', 'MATH-506', 'MATH-716', 'MATH-537', 'MATH-380', 'MATH-458', 'MATH-567', 'MATH-573', 'MATH-669', 'MATH-533', 'MATH-532', 'MATH-531', 'MATH-530', 'MATH-529', 'MATH-527', 'MATH-526', 'MATH-525', 'MATH-524', 'MATH-523', 'MATH-522', 'MATH-467', 'MATH-456', 'MATH-421', 'MATH-415', 'MATH-414', 'MATH-399', 'MATH-392', 'MATH-376', 'MATH-370', 'MATH-369', 'MATH-368', 'MATH-367', 'MATH-365', 'MATH-349', 'MATH-260', 'MATH-309', 'MATH-329', 'MATH-335', 'MATH-281', 'MATH-279', 'MATH-274', 'MATH-255', 'MATH-244', 'MATH-243', 'MATH-240', 'MATH-238', 'MATH-221', 'MATH-190', 'MATH-187', 'MATH-186', 'MATH-185', 'MATH-184', 'MATH-182', 'MATH-174', 'MATH-167', 'MATH-166', 'MATH-107', 'MATH-89', 'MATH-70', 'MATH-46', 'MATH-1232', 'MATH-1229', 'MATH-1178', 'MATH-1111', 'MATH-840', 'MATH-589', 'MATH-559', 'MATH-381', 'MATH-504', 'MATH-410', 'MATH-393', 'MATH-382', 'MATH-210', 'MATH-205']\n",
      "\n",
      "Number of issues: 498\n"
     ]
    }
   ],
   "source": [
    "import os\n",
    "import json\n",
    "import requests\n",
    "import pprint\n",
    "from jira import JIRA\n",
    "\n",
    "issue_numbers_list = []\n",
    "\n",
    "def get_jira_closed_bug_issues(jira_url, project_name):\n",
    "    issue_search_str = \"project = \"+ project_name + \" AND issuetype = Bug AND status = Closed AND resolution in (Fixed, Done, Resolved) ORDER BY priority DESC, updated DESC\"\n",
    "    issues = jira.search_issues(issue_search_str, maxResults=False)\n",
    "    for i in issues:\n",
    "        issue_numbers_list.append(str(i))\n",
    "    print(issue_numbers_list)\n",
    "    print(\"\\nNumber of issues: \" + str(len(issue_numbers_list)))\n",
    "\n",
    "jira = JIRA(server=jira_url)\n",
    "get_jira_closed_bug_issues(jira_url, project_name)"
   ]
  },
  {
   "cell_type": "markdown",
   "id": "09070d40-c72d-44c4-9002-acc2c6af99b3",
   "metadata": {
    "tags": []
   },
   "source": [
    "#### **Bug reports content extraction**\n",
    "Extraction the content of each of these bug reports"
   ]
  },
  {
   "cell_type": "code",
   "execution_count": 35,
   "id": "c0c4105b-f22d-4931-817c-8fdb09fc9cf4",
   "metadata": {},
   "outputs": [
    {
     "name": "stdout",
     "output_type": "stream",
     "text": [
      "Extraction completed\n"
     ]
    }
   ],
   "source": [
    "output_folder = out + repo_name+ '/'\n",
    "\n",
    "def get_bug_comments(issue):\n",
    "    comments = issue.fields.comment.comments\n",
    "    comments_list = []\n",
    "    for c in comments:\n",
    "        comment = {\n",
    "            \"author\": {\n",
    "                \"login\": c.author.key\n",
    "            },\n",
    "            \"authorAssociation\": \"NONE\",\n",
    "            \"body\": c.body,\n",
    "            \"createdAt\": c.created,\n",
    "            \"includesCreatedEdit\": False,\n",
    "            \"isMinimized\": False,\n",
    "            \"minimizedReason\": \"\",\n",
    "            \"reactionGroups\": []\n",
    "        }\n",
    "        comments_list.append(comment)\n",
    "    return comments_list\n",
    "\n",
    "def get_bug_details(issue_number):\n",
    "    issue = jira.issue(issue_number)\n",
    "    bug_details = {\n",
    "        \"title\": issue.fields.summary,\n",
    "        \"body\": issue.fields.description,\n",
    "        \"comments_content\": get_bug_comments(issue),\n",
    "        \"createdAt\": issue.fields.created,\n",
    "        \"id\": issue_number,\n",
    "        \"labels\":[\n",
    "            {\n",
    "                \"name\": issue.fields.issuetype.name,\n",
    "                \"id\": issue.fields.issuetype.id,\n",
    "                \"description\": issue.fields.issuetype.description,\n",
    "                \"color\": None\n",
    "            }\n",
    "        ],\n",
    "        \"number\": issue_number,\n",
    "        \"state\": issue.fields.status.name,\n",
    "        \"updatedAt\": issue.fields.updated,\n",
    "        \"url\": jira_url + \"browse/\"+ issue_number\n",
    "    }\n",
    "    return bug_details\n",
    "    \n",
    "\n",
    "def dict_to_json_file(file, dic, folder=output_folder):\n",
    "    if not os.path.exists(folder):\n",
    "        os.makedirs(folder)\n",
    "    with open(os.path.join(folder, file+'.json'), 'w') as fp:\n",
    "        json.dump(dic, fp, sort_keys=True, indent=4)\n",
    "    fp.close()\n",
    "        \n",
    "for issue_number in issue_numbers_list:\n",
    "    bug_details = get_bug_details(issue_number)\n",
    "    dict_to_json_file(repo_name+'-'+str(issue_number), bug_details)\n",
    "print (\"Extraction completed\")\n",
    "    "
   ]
  },
  {
   "cell_type": "markdown",
   "id": "c6ed1589-b3fd-47d8-99c5-74281107c879",
   "metadata": {},
   "source": [
    "#### **Filtering for logs and stack traces**\n",
    "Filtering only the bug reports with **logs** and **stack traces**"
   ]
  },
  {
   "cell_type": "code",
   "execution_count": 36,
   "id": "58a404ea-f722-4e74-a151-138d583d3bbb",
   "metadata": {},
   "outputs": [
    {
     "name": "stdout",
     "output_type": "stream",
     "text": [
      "commons-math\n",
      "Bug reports with logs:1\n",
      "Bug reports with stack traces:22\n"
     ]
    }
   ],
   "source": [
    "import re\n",
    "import glob\n",
    "from collections import defaultdict\n",
    "\n",
    "# global dict of a dict for storing the log\n",
    "bug_report_log = defaultdict(dict)\n",
    "bug_report_stack_trace = defaultdict(dict)\n",
    "\n",
    "def json_file_to_dict(file):\n",
    "    data = {}\n",
    "    with open(os.path.join(output_folder, file+'.json'), 'r') as fp:\n",
    "        data = json.load(fp)\n",
    "    fp.close()\n",
    "    return data\n",
    "\n",
    "def find_regex(regex, var,file_name, text_content):\n",
    "    results = re.finditer(regex, text_content)\n",
    "    if results:\n",
    "        for log in results:\n",
    "            bug_name = file_name.split('-')[-2] + '-' + file_name.split('-')[-1]\n",
    "            var[proj][bug_name] = log.group() \n",
    "            \n",
    "            \n",
    "def find_logs_and_stack_traces (file_name, text_content):\n",
    "    stack_trace_regex = r'(?m)^.*?Exception.*(?:\\n+^\\s*at .*)+'\n",
    "    logs_regex = r'(ERROR|INFO|WARN|DEBUG|FATAL)\\s+(?P<class>\\w+(\\.\\w+)*)'\n",
    "    find_regex(logs_regex, bug_report_log,file_name, text_content)\n",
    "    find_regex(stack_trace_regex, bug_report_stack_trace,file_name, text_content)\n",
    "    \n",
    "\n",
    "# for every .json in bug-reports folder\n",
    "for file in glob.glob(output_folder +'/*.json'):\n",
    "    file_name = os.path.basename(file).replace('.json', '')\n",
    "    bug_report = json_file_to_dict(file.replace('.json', ''))\n",
    "    if not bug_report:\n",
    "        continue\n",
    "    \n",
    "    title = bug_report['title'] if bug_report['title'] else \"\"\n",
    "    description = bug_report['body'] if bug_report['body'] else \"\"\n",
    "    text_content = title + '\\n' + description + '\\n' + '\\n'.join([comment['body'] for comment in bug_report['comments_content'] if 'body' in comment and comment['body']])\n",
    "    find_logs_and_stack_traces(file_name, text_content)\n",
    "\n",
    "print(proj)\n",
    "print(\"Bug reports with logs:\" + str(len(bug_report_log[proj])))\n",
    "print(\"Bug reports with stack traces:\" + str(len(bug_report_stack_trace[proj])))"
   ]
  },
  {
   "cell_type": "markdown",
   "id": "627054e6-21b9-4327-8c29-7166c5863b4b",
   "metadata": {},
   "source": [
    "#### **Commits search**\n",
    "Searching for the respective commits\n",
    "\n",
    "**TODO:** Figure out a way to decide witch of the commits to use"
   ]
  },
  {
   "cell_type": "code",
   "execution_count": 37,
   "id": "3ef4e752-9ebf-4602-8600-36dc545b5db5",
   "metadata": {},
   "outputs": [
    {
     "name": "stdout",
     "output_type": "stream",
     "text": [
      "Extraction completed\n",
      "Number obtained: 17\n"
     ]
    }
   ],
   "source": [
    "from urllib.parse import quote\n",
    "\n",
    "bug_reports_with_logs_commits = defaultdict(dict)\n",
    "bug_reports_with_stack_traces_commits = defaultdict(dict)\n",
    "cont = 0\n",
    "\n",
    "def get_bug_report_commit(bug, proj_path):\n",
    "    os.chdir(proj_path)\n",
    "    log_grep_command = \"git log --grep=\\\"\"+ str(bug)+\"[^0-9]\\\" --grep=\\\"\"+ str(bug)+\"$\\\" --pretty=format:\\\"%H\\\" >> commit_output\"\n",
    "    os.system(log_grep_command)\n",
    "    lines = []\n",
    "    with open(\"commit_output\", 'r') as fp:\n",
    "        lines =fp.readlines()\n",
    "        fp.close()\n",
    "    os.system(\"rm commit_output\")\n",
    "    if (lines):\n",
    "        commit_hash = lines[0]\n",
    "        return(commit_hash)\n",
    "    return \"\"\n",
    "\n",
    "for bug in bug_report_log[proj].keys():\n",
    "    commit = get_bug_report_commit(bug, proj_path)\n",
    "    if (commit != \"\"):\n",
    "        previous_commit_command = \"git rev-parse \" + commit.strip() + \"~1  >> previous_commit_output\"\n",
    "        os.system(previous_commit_command)\n",
    "        previous_commit = \"\"\n",
    "        with open('previous_commit_output', 'r') as fp:\n",
    "            previous_commit = fp.read().replace('\\n', '')\n",
    "            fp.close()\n",
    "        os.system(\"rm previous_commit_output\")\n",
    "        content = {\n",
    "            \"log\": bug_report_log[proj][bug],\n",
    "            \"commit\": commit.strip(), \n",
    "            \"previous_commit\": previous_commit\n",
    "        }\n",
    "        bug_reports_with_logs_commits[bug] = content\n",
    "        cont = cont + 1\n",
    "\n",
    "for bug in bug_report_stack_trace[proj].keys():\n",
    "    commit = get_bug_report_commit(bug, proj_path)\n",
    "    if (commit != \"\"):\n",
    "        previous_commit_command = \"git rev-parse \" + commit.strip() + \"~1  >> previous_commit_output\"\n",
    "        os.system(previous_commit_command)\n",
    "        previous_commit = \"\"\n",
    "        with open('previous_commit_output', 'r') as fp:\n",
    "            previous_commit = fp.read().replace('\\n', '')\n",
    "            fp.close()\n",
    "        os.system(\"rm previous_commit_output\")\n",
    "        content = {\n",
    "            \"stack_trace\": bug_report_stack_trace[proj][bug],\n",
    "            \"commit\": commit.strip(), \n",
    "            \"previous_commit\": previous_commit\n",
    "        }\n",
    "        bug_reports_with_stack_traces_commits[bug] = content\n",
    "        cont = cont + 1\n",
    "\n",
    "if bug_reports_with_logs_commits:\n",
    "    dict_to_json_file(\"bug_reports_with_logs_commits\", bug_reports_with_logs_commits, out_commits_dir)\n",
    "if bug_reports_with_stack_traces_commits:\n",
    "    dict_to_json_file(\"bug_reports_with_stack_traces_commits\", bug_reports_with_stack_traces_commits, out_commits_dir)\n",
    "\n",
    "print(\"Extraction completed\")\n",
    "print(\"Number obtained: \" + str(cont))"
   ]
  },
  {
   "cell_type": "code",
   "execution_count": null,
   "id": "91bc9ef0-e1bc-4b9d-83ff-8234dc98ceb0",
   "metadata": {},
   "outputs": [],
   "source": []
  }
 ],
 "metadata": {
  "kernelspec": {
   "display_name": "Python 3 (ipykernel)",
   "language": "python",
   "name": "python3"
  },
  "language_info": {
   "codemirror_mode": {
    "name": "ipython",
    "version": 3
   },
   "file_extension": ".py",
   "mimetype": "text/x-python",
   "name": "python",
   "nbconvert_exporter": "python",
   "pygments_lexer": "ipython3",
   "version": "3.10.6"
  },
  "vscode": {
   "interpreter": {
    "hash": "13b39b9c1f4a3ce65bb85def5b82b636fecd8f608eb452a063e789d45af2aad2"
   }
  }
 },
 "nbformat": 4,
 "nbformat_minor": 5
}
