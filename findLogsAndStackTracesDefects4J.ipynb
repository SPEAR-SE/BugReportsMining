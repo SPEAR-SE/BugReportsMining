{
 "cells": [
  {
   "cell_type": "code",
   "execution_count": 8,
   "metadata": {
    "collapsed": true
   },
   "outputs": [],
   "source": [
    "bug_reports_path = \"/Users/lorenapacheco/Concordia/Masters/bug_mining-2\"\n",
    "stack_trace_regex = r'(?m)^.*?Exception.*(?:\\n+^\\s*at .*)+'\n",
    "logs_regex = r'(ERROR|INFO|WARN|DEBUG|FATAL)\\s+(?P<class>\\w+(\\.\\w+)*)'"
   ]
  },
  {
   "cell_type": "code",
   "execution_count": 19,
   "outputs": [
    {
     "name": "stdout",
     "output_type": "stream",
     "text": [
      "91 bug reports with logs found\n",
      "\n",
      "dict_keys(['JxPath_5.txt', 'Compress_14.txt', 'JacksonDatabind_37.txt', 'Lang_6.txt', 'Compress_17.txt', 'JacksonDatabind_32.txt', 'Jsoup_5.txt', 'JacksonDatabind_104.txt', 'Compress_12.txt', 'Lang_61.txt', 'Mockito_4.txt', 'JacksonDatabind_25.txt', 'Collections_28.txt', 'Jsoup_6.txt', 'Codec_8.txt', 'Mockito_5.txt', 'Mockito_17.txt', 'Cli_5.txt', 'JacksonDatabind_95.txt', 'Math_58.txt', 'JacksonDatabind_68.txt', 'JacksonDatabind_9.txt', 'JacksonDatabind_83.txt', 'Cli_7.txt', 'JacksonDatabind_69.txt', 'Math_49.txt', 'Cli_14.txt', 'JacksonDatabind_93.txt', 'JacksonDatabind_91.txt', 'JacksonDatabind_90.txt', 'Gson_8.txt', 'JacksonDatabind_47.txt', 'Math_85.txt', 'JacksonDatabind_3.txt', 'JacksonDatabind_62.txt', 'Gson_5.txt', 'Mockito_22.txt', 'Time_10.txt', 'Math_79.txt', 'Lang_19.txt', 'JacksonDatabind_61.txt', 'JacksonCore_10.txt', 'Jsoup_34.txt', 'Mockito_35.txt', 'JacksonCore_11.txt', 'Math_97.txt', 'JacksonDatabind_58.txt', 'JacksonDatabind_70.txt', 'Mockito_25.txt', 'Mockito_31.txt', 'Mockito_30.txt', 'JacksonDatabind_65.txt', 'JacksonDatabind_59.txt', 'Lang_37.txt', 'Compress_1.txt', 'Csv_4.txt', 'JacksonDatabind_73.txt', 'JacksonDatabind_98.txt', 'Jsoup_27.txt', 'JacksonDatabind_72.txt', 'Math_81.txt', 'Compress_34.txt', 'JacksonDatabind_15.txt', 'Jsoup_82.txt', 'Jsoup_54.txt', 'Csv_12.txt', 'JacksonCore_4.txt', 'JacksonDatabind_28.txt', 'JacksonDatabind_14.txt', 'Compress_23.txt', 'Jsoup_80.txt', 'JacksonCore_7.txt', 'JacksonDatabind_17.txt', 'Compress_32.txt', 'Jsoup_90.txt', 'Jsoup_84.txt', 'Compress_27.txt', 'Compress_31.txt', 'Jsoup_78.txt', 'Gson_12.txt', 'Compress_24.txt', 'Compress_18.txt', 'Closure_125', 'Closure_152', 'Closure_55', 'Closure_34', 'Closure_143', 'Closure_27', 'Closure_37', 'Closure_2', 'Closure_106'])\n"
     ]
    }
   ],
   "source": [
    "import re\n",
    "import glob\n",
    "import os\n",
    "import json\n",
    "\n",
    "regex_result = {}\n",
    "\n",
    "def json_file_to_dict(file):\n",
    "    data = {}\n",
    "    with open(os.path.join(file), 'r') as fp:\n",
    "        data = json.load(fp)\n",
    "    fp.close()\n",
    "    return data\n",
    "\n",
    "def find_regex(regex, bug_id, text_content):\n",
    "    results = re.finditer(regex, text_content)\n",
    "    if results:\n",
    "        for log in results:\n",
    "            if bug_id not in regex_result.keys():\n",
    "                regex_result[bug_id] = []\n",
    "            regex_result[bug_id].append(log.group())\n",
    "\n",
    "\n",
    "def find_logs_and_stack_traces_txt (bug_id, text_content):\n",
    "    find_regex(logs_regex, bug_id, text_content)\n",
    "    find_regex(stack_trace_regex, bug_id, text_content)\n",
    "\n",
    "def find_logs_and_stack_traces_json (bug_id, bug_report_json):\n",
    "    string_fields_list = [\"summary\", \"description\"]\n",
    "    for field in string_fields_list:\n",
    "        if field in bug_report_json.keys():\n",
    "            find_regex(logs_regex, bug_id, bug_report_json[field])\n",
    "            find_regex(stack_trace_regex, bug_id,  bug_report_json[field])\n",
    "    # going through comments\n",
    "    if \"comments\" in bug_report_json.keys():\n",
    "        for comment in bug_report_json[\"comments\"]:\n",
    "            find_regex(logs_regex, bug_id, comment[\"content\"])\n",
    "            find_regex(stack_trace_regex, bug_id,  comment[\"content\"])\n",
    "\n",
    "\n",
    "\n",
    "\n",
    "# txt files\n",
    "for file in glob.glob(bug_reports_path +'/*.txt'):\n",
    "    bug_id = os.path.basename(file).replace('.json', '')\n",
    "    with open(file, 'r') as file_obj:\n",
    "        file_content = file_obj.read()\n",
    "    find_logs_and_stack_traces_txt(bug_id, file_content)\n",
    "\n",
    "\n",
    "# json files\n",
    "for file in glob.glob(bug_reports_path +'/*.json'):\n",
    "    bug_id = os.path.basename(file).replace('.json', '')\n",
    "    bug_report_json = json_file_to_dict(file)\n",
    "    find_logs_and_stack_traces_json(bug_id, bug_report_json)\n",
    "\n",
    "print(str(len(regex_result)) + \" bug reports with logs found\")\n",
    "print(\"---\")\n",
    "print(regex_result.keys())\n",
    "\n",
    "\n",
    "\n"
   ],
   "metadata": {
    "collapsed": false
   }
  },
  {
   "cell_type": "code",
   "execution_count": null,
   "outputs": [],
   "source": [],
   "metadata": {
    "collapsed": false
   }
  }
 ],
 "metadata": {
  "kernelspec": {
   "display_name": "Python 3",
   "language": "python",
   "name": "python3"
  },
  "language_info": {
   "codemirror_mode": {
    "name": "ipython",
    "version": 2
   },
   "file_extension": ".py",
   "mimetype": "text/x-python",
   "name": "python",
   "nbconvert_exporter": "python",
   "pygments_lexer": "ipython2",
   "version": "2.7.6"
  }
 },
 "nbformat": 4,
 "nbformat_minor": 0
}
