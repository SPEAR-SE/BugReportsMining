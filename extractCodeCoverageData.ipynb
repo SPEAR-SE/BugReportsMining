{
 "cells": [
  {
   "cell_type": "markdown",
   "id": "242445ac-e82a-46fa-918f-7edc7072f5ba",
   "metadata": {},
   "source": [
    "#### **Var definitions**\n",
    "Change it whenever necessary"
   ]
  },
  {
   "cell_type": "code",
   "execution_count": 28,
   "id": "3c848c2c-5fed-46bc-a333-b31577228160",
   "metadata": {},
   "outputs": [],
   "source": [
    "base_path = \"/Users/lorenapacheco/Concordia/Masters/\"\n",
    "project = \"junit4\"\n",
    "coverage_path = base_path + \"coverage_data/\"+ project + \"/\"\n",
    "project_path = base_path + \"open_source_repos_being_studied/\"+  project + \"/\"\n",
    "output_folder = base_path + \"BugReportsMining/coverage_info/\" +  project + \"/\""
   ]
  },
  {
   "cell_type": "markdown",
   "id": "3d40fc07-ce5b-451c-94fa-fdf3dca90238",
   "metadata": {},
   "source": [
    "#### **Script**"
   ]
  },
  {
   "cell_type": "code",
   "execution_count": 29,
   "id": "3e56faf5-682f-45e1-aa2e-51d0dd4748aa",
   "metadata": {},
   "outputs": [
    {
     "name": "stdout",
     "output_type": "stream",
     "text": [
      "fb50d9635874185fc050735057b8a7363cd53f3f - OK\n",
      "a25189631a9eb551a1ac961ca4d2c2db37a687a0 - OK\n",
      "Extraction completed\n"
     ]
    }
   ],
   "source": [
    "import os\n",
    "import glob\n",
    "import json\n",
    "import csv\n",
    "\n",
    "def json_file_to_dict(file):\n",
    "    data = {}\n",
    "    with open(os.path.join(output_folder, file+'.json'), 'r') as fp:\n",
    "        data = json.load(fp)\n",
    "    fp.close()\n",
    "    return data\n",
    "\n",
    "def find_file(name, path):\n",
    "    for root, dirs, files in os.walk(path):\n",
    "        if name in files:\n",
    "            return os.path.join(root, name)\n",
    "        \n",
    "def read_file_lines(file_name, path=project_path):\n",
    "    path = find_file(file_name, project_path)\n",
    "    with open(path, 'r', encoding='utf-8', errors='ignore') as file:\n",
    "        lines =file.readlines()\n",
    "    file.close()\n",
    "    return lines\n",
    "    \n",
    "\n",
    "def count_lines_of_code (file_name):\n",
    "    lines = read_file_lines(file_name)\n",
    "    multine_comment_active = False\n",
    "    count = 0\n",
    "    for i in range(0, len(lines)):\n",
    "        line = lines[i]\n",
    "        # Ignore blocks inside multiline comments\n",
    "        if line.strip().startswith(\"/*\"):\n",
    "            multine_comment_active = True\n",
    "            continue\n",
    "        if multine_comment_active:\n",
    "            if line.strip().endswith(\"*/\"):\n",
    "                multine_comment_active = False\n",
    "                continue\n",
    "        # Ignore single line comments\n",
    "        if line.strip().startswith(\"//\"):\n",
    "            continue\n",
    "        # Count non-empty lines\n",
    "        if line.strip() != \"\":\n",
    "            # Ignore package and import lines\n",
    "            if line.strip().startswith(\"package\") or line.strip().startswith(\"import\"):\n",
    "                continue\n",
    "            # Treating statements with line break\n",
    "            if line.strip().endswith(\"{\") or line.strip().endswith(\"}\") or line.strip().endswith(\";\") or line.strip().endswith(\";\") or line.strip().endswith(\",\"):\n",
    "                count = count + 1\n",
    "\n",
    "    return count\n",
    "\n",
    "def create_coverage_percent_file(file_name, obj):\n",
    "    if not os.path.exists(output_folder):\n",
    "        os.makedirs(output_folder)\n",
    "    with open(os.path.join(output_folder, file_name+'.csv'), 'w') as file:\n",
    "        # create the csv writer object\n",
    "        csv_writer = csv.writer(file)\n",
    "        csv_writer.writerow([\"File name\", \"Coverage percent\"])\n",
    "        for file_name in obj.keys():\n",
    "            total_num_lines = count_lines_of_code(file_name)\n",
    "            coverage_percent = len(coverage[file_name])/total_num_lines * 100\n",
    "            csv_writer.writerow([file_name, coverage_percent])\n",
    "    file.close()\n",
    "        \n",
    "for commit_folder in glob.glob(coverage_path +'*'):\n",
    "    print(commit_hash + \" - OK\")\n",
    "    commit_hash = os.path.basename(commit_folder)\n",
    "    os.chdir(project_path)\n",
    "    checkout_command = \"git checkout  --quiet \" + commit_hash\n",
    "    os.system(checkout_command)\n",
    "\n",
    "    data = {}\n",
    "    if os.path.exists(coverage_path + commit_hash +'/coverage.json'):\n",
    "        with open(os.path.join(coverage_path + commit_hash +'/coverage.json'), 'r') as file:\n",
    "            data = json.load(file)\n",
    "        file.close()\n",
    "    else:\n",
    "        for test_file in glob.glob(coverage_path + commit_hash + '/details/*.json'):\n",
    "            test_name = os.path.basename(test_file).replace('.json', '')\n",
    "            data [test_name] = json_file_to_dict(test_file.replace('.json', ''))\n",
    "    coverage = {}\n",
    "    for test in data.keys():\n",
    "        for file in data[test][\"covered_lines\"].keys():\n",
    "            file_name = file.split('.')[-1] + \".java\"\n",
    "            if file_name not in coverage.keys():\n",
    "                coverage[file_name] = []\n",
    "            for line in (data[test][\"covered_lines\"][file]):\n",
    "                coverage[file_name].append(int(line))\n",
    "    for file in coverage.keys():\n",
    "        coverage[file] = sorted(set(coverage[file]))\n",
    "    \n",
    "    create_coverage_percent_file(commit_hash, coverage)\n",
    "    \n",
    "print(\"Extraction completed\")\n",
    "    "
   ]
  },
  {
   "cell_type": "code",
   "execution_count": null,
   "id": "2febfc71-6b47-4af0-9f16-fee052722991",
   "metadata": {},
   "outputs": [],
   "source": []
  }
 ],
 "metadata": {
  "kernelspec": {
   "display_name": "Python 3 (ipykernel)",
   "language": "python",
   "name": "python3"
  },
  "language_info": {
   "codemirror_mode": {
    "name": "ipython",
    "version": 3
   },
   "file_extension": ".py",
   "mimetype": "text/x-python",
   "name": "python",
   "nbconvert_exporter": "python",
   "pygments_lexer": "ipython3",
   "version": "3.10.6"
  }
 },
 "nbformat": 4,
 "nbformat_minor": 5
}
