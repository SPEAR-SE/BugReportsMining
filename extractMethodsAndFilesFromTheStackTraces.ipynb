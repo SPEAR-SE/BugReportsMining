{
 "cells": [
  {
   "cell_type": "markdown",
   "source": [
    "## Var declarations"
   ],
   "metadata": {
    "collapsed": false
   }
  },
  {
   "cell_type": "code",
   "execution_count": 16,
   "metadata": {
    "collapsed": true
   },
   "outputs": [],
   "source": [
    "data_file_path = \"/Users/lorenapacheco/Concordia/Masters/BugReportsMining/data/merged_data_production_bug_reports.json\""
   ]
  },
  {
   "cell_type": "markdown",
   "source": [
    "## General methods"
   ],
   "metadata": {
    "collapsed": false
   }
  },
  {
   "cell_type": "code",
   "execution_count": 17,
   "outputs": [],
   "source": [
    "import json\n",
    "import os\n",
    "\n",
    "def json_file_to_dict(file):\n",
    "    data = {}\n",
    "    with open(os.path.join(file), 'r') as fp:\n",
    "        data = json.load(fp)\n",
    "    fp.close()\n",
    "    return data\n",
    "\n",
    "def dict_to_json_file(file, dic):\n",
    "    folder = os.path.dirname(file)\n",
    "    if not os.path.exists(folder):\n",
    "        os.makedirs(folder)\n",
    "    with open(os.path.join(file), 'w') as fp:\n",
    "        json.dump(dic, fp, sort_keys=True, indent=4)\n",
    "    fp.close()"
   ],
   "metadata": {
    "collapsed": false
   }
  },
  {
   "cell_type": "code",
   "execution_count": 21,
   "outputs": [
    {
     "name": "stdout",
     "output_type": "stream",
     "text": [
      "Done\n"
     ]
    }
   ],
   "source": [
    "def get_file_name_from_stack_trace(stack_trace_entry):\n",
    "    try: #  Treating exceptions such as Unknow Source and Native Method\n",
    "        parentheses_opening_index = stack_trace_entry.index('(')\n",
    "        colon_index = stack_trace_entry.index(':',parentheses_opening_index + 1)\n",
    "        file_name = stack_trace_entry[parentheses_opening_index + 1 : colon_index]\n",
    "    except:\n",
    "        parentheses_opening_index = stack_trace_entry.index('(')\n",
    "        parentheses_closing_index = stack_trace_entry.index(')',parentheses_opening_index + 1)\n",
    "        file_name = stack_trace_entry[parentheses_opening_index + 1 : parentheses_closing_index]\n",
    "    return file_name\n",
    "\n",
    "def get_method_name_from_stack_trace(stack_trace_entry):\n",
    "    parentheses_opening_index = stack_trace_entry.index('(')\n",
    "    stack_trace_entry = stack_trace_entry[:parentheses_opening_index]\n",
    "    last_dot_index = stack_trace_entry.rfind(\".\")\n",
    "    method_name = stack_trace_entry[last_dot_index + 1 : ]\n",
    "    return method_name\n",
    "\n",
    "def get_file_line_from_stack_trace(stack_trace_entry):\n",
    "    try: # Treating exceptions such as Unknow Source and Native Method\n",
    "        colon_index = stack_trace_entry.index(':')\n",
    "        parentheses_closing_index = stack_trace_entry.index(')', colon_index + 1)\n",
    "        file_line = stack_trace_entry[colon_index + 1 : parentheses_closing_index]\n",
    "        return file_line\n",
    "    except:\n",
    "        return -1\n",
    "\n",
    "bugs_data = json_file_to_dict(data_file_path)\n",
    "for project in bugs_data.keys():\n",
    "    for bug_id in bugs_data[project].keys():\n",
    "        stack_trace_entries = []\n",
    "        for stack_trace in bugs_data[project][bug_id][\"log\"]:\n",
    "            stack_trace_entries += stack_trace.replace(\"\\t\", \"\").split(\"\\n\")\n",
    "        st_methods = []\n",
    "        st_files = []\n",
    "        st_lines = []\n",
    "        for st_entry in stack_trace_entries:\n",
    "            try:\n",
    "                method_name = get_method_name_from_stack_trace(st_entry)\n",
    "                file_name = get_file_name_from_stack_trace(st_entry)\n",
    "                line_number = get_file_line_from_stack_trace(st_entry)\n",
    "                st_methods.append(method_name)\n",
    "                st_files.append(file_name)\n",
    "                st_lines.append(line_number)\n",
    "            except:\n",
    "                continue\n",
    "        bugs_data[project][bug_id][\"stack_trace_methods\"] = st_methods\n",
    "        bugs_data[project][bug_id][\"stack_trace_files\"] = st_files\n",
    "        bugs_data[project][bug_id][\"stack_trace_lines\"] = st_lines\n",
    "dict_to_json_file(data_file_path,bugs_data)\n",
    "print(\"Done\")"
   ],
   "metadata": {
    "collapsed": false
   }
  },
  {
   "cell_type": "code",
   "execution_count": null,
   "outputs": [],
   "source": [],
   "metadata": {
    "collapsed": false
   }
  }
 ],
 "metadata": {
  "kernelspec": {
   "display_name": "Python 3",
   "language": "python",
   "name": "python3"
  },
  "language_info": {
   "codemirror_mode": {
    "name": "ipython",
    "version": 2
   },
   "file_extension": ".py",
   "mimetype": "text/x-python",
   "name": "python",
   "nbconvert_exporter": "python",
   "pygments_lexer": "ipython2",
   "version": "2.7.6"
  }
 },
 "nbformat": 4,
 "nbformat_minor": 0
}
