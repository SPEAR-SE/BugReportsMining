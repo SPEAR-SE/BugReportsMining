{
 "cells": [
  {
   "cell_type": "markdown",
   "source": [
    "## Var declarations"
   ],
   "metadata": {
    "collapsed": false
   }
  },
  {
   "cell_type": "code",
   "execution_count": 16,
   "metadata": {
    "collapsed": true
   },
   "outputs": [],
   "source": [
    "data_file_path = \"/Users/lorenapacheco/Concordia/Masters/BugReportsMining/data/merged_data_production_bug_reports.json\""
   ]
  },
  {
   "cell_type": "markdown",
   "source": [
    "## General methods"
   ],
   "metadata": {
    "collapsed": false
   }
  },
  {
   "cell_type": "code",
   "execution_count": 17,
   "outputs": [],
   "source": [
    "import json\n",
    "import os\n",
    "\n",
    "def json_file_to_dict(file):\n",
    "    data = {}\n",
    "    with open(os.path.join(file), 'r') as fp:\n",
    "        data = json.load(fp)\n",
    "    fp.close()\n",
    "    return data\n",
    "\n",
    "def dict_to_json_file(file, dic):\n",
    "    folder = os.path.dirname(file)\n",
    "    if not os.path.exists(folder):\n",
    "        os.makedirs(folder)\n",
    "    with open(os.path.join(file), 'w') as fp:\n",
    "        json.dump(dic, fp, sort_keys=True, indent=4)\n",
    "    fp.close()"
   ],
   "metadata": {
    "collapsed": false
   }
  },
  {
   "cell_type": "code",
   "execution_count": 25,
   "outputs": [
    {
     "name": "stdout",
     "output_type": "stream",
     "text": [
      "Done\n"
     ]
    }
   ],
   "source": [
    "import re\n",
    "\n",
    "def extract_info_from_stack_trace(stack_trace_entry):\n",
    "    file_name = None\n",
    "    method_name = None\n",
    "    file_line = -1\n",
    "\n",
    "    match = re.search(r'\\s*at\\s+([\\w.$<>]+)\\(([^:]*\\.java):(\\d+)\\)', stack_trace_entry)\n",
    "    if match:\n",
    "        method_name = match.group(1)\n",
    "        file_name = match.group(2)\n",
    "        file_line = int(match.group(3))\n",
    "\n",
    "    return file_name, method_name, file_line\n",
    "\n",
    "bugs_data = json_file_to_dict(data_file_path)\n",
    "for project in bugs_data.keys():\n",
    "    for bug_id in bugs_data[project].keys():\n",
    "        stack_trace_entries = []\n",
    "        for stack_trace in bugs_data[project][bug_id][\"log\"]:\n",
    "            stack_trace_entries += stack_trace.replace(\"\\t\", \"\").split(\"\\n\")\n",
    "        st_methods = []\n",
    "        st_files = []\n",
    "        st_lines = []\n",
    "        for st_entry in stack_trace_entries:\n",
    "            try:\n",
    "                file_name, method_name, line_number = extract_info_from_stack_trace(st_entry)\n",
    "                if file_name is not None and method_name is not None and line_number is not None:\n",
    "                    st_methods.append(method_name)\n",
    "                    st_files.append(file_name)\n",
    "                    st_lines.append(str(line_number))\n",
    "            except:\n",
    "                continue\n",
    "        bugs_data[project][bug_id][\"stack_trace_methods\"] = st_methods\n",
    "        bugs_data[project][bug_id][\"stack_trace_files\"] = st_files\n",
    "        bugs_data[project][bug_id][\"stack_trace_lines\"] = st_lines\n",
    "dict_to_json_file(data_file_path,bugs_data)\n",
    "print(\"Done\")"
   ],
   "metadata": {
    "collapsed": false
   }
  },
  {
   "cell_type": "code",
   "execution_count": null,
   "outputs": [],
   "source": [],
   "metadata": {
    "collapsed": false
   }
  }
 ],
 "metadata": {
  "kernelspec": {
   "display_name": "Python 3",
   "language": "python",
   "name": "python3"
  },
  "language_info": {
   "codemirror_mode": {
    "name": "ipython",
    "version": 2
   },
   "file_extension": ".py",
   "mimetype": "text/x-python",
   "name": "python",
   "nbconvert_exporter": "python",
   "pygments_lexer": "ipython2",
   "version": "2.7.6"
  }
 },
 "nbformat": 4,
 "nbformat_minor": 0
}
