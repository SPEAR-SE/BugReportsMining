{
 "cells": [
  {
   "cell_type": "markdown",
   "source": [
    "## Var declarations"
   ],
   "metadata": {
    "collapsed": false
   }
  },
  {
   "cell_type": "code",
   "execution_count": 2,
   "metadata": {
    "collapsed": true
   },
   "outputs": [],
   "source": [
    "data_file_path = \"/Users/lorenapacheco/Concordia/Masters/BugReportsMining/data/merged_data_production_bug_reports.json\""
   ]
  },
  {
   "cell_type": "markdown",
   "source": [
    "## General methods"
   ],
   "metadata": {
    "collapsed": false
   }
  },
  {
   "cell_type": "code",
   "execution_count": 3,
   "outputs": [],
   "source": [
    "import json\n",
    "import os\n",
    "\n",
    "def json_file_to_dict(file):\n",
    "    data = {}\n",
    "    with open(os.path.join(file), 'r') as fp:\n",
    "        data = json.load(fp)\n",
    "    fp.close()\n",
    "    return data\n",
    "\n",
    "def dict_to_json_file(file, dic):\n",
    "    folder = os.path.dirname(file)\n",
    "    if not os.path.exists(folder):\n",
    "        os.makedirs(folder)\n",
    "    with open(os.path.join(file), 'w') as fp:\n",
    "        json.dump(dic, fp, sort_keys=True, indent=4)\n",
    "    fp.close()"
   ],
   "metadata": {
    "collapsed": false
   }
  },
  {
   "cell_type": "code",
   "execution_count": 13,
   "outputs": [
    {
     "name": "stdout",
     "output_type": "stream",
     "text": [
      "Exception in thread \"main\" java.lang.ClassCastException: java.io.File cannot be cast to java.lang.String\n",
      "java.lang.NullPointerException\n",
      "java.lang.RuntimeException: java.lang.IllegalArgumentException\r\n",
      "Caused by: java.lang.IllegalArgumentException\r\n",
      "java.lang.RuntimeException: java.lang.IllegalStateException\r\n",
      "Caused by: java.lang.IllegalStateException\r\n",
      "java.lang.RuntimeException: --define flag syntax invalid: test.VERSION=1.0.0\r\n",
      "        java.lang.RuntimeException: java.lang.ClassCastException: com.google.javascript.rhino.jstype.UnionType cannot be cast to com.google.javascript.rhino.jstype.ObjectType\r\n",
      "        Caused by: java.lang.ClassCastException: com.google.javascript.rhino.jstype.UnionType cannot be cast to com.google.javascript.rhino.jstype.ObjectType\r\n",
      "        java.lang.RuntimeException: java.lang.ClassCastException: com.google.javascript.rhino.jstype.UnionType cannot be cast to com.google.javascript.rhino.jstype.ObjectType\r\n",
      "        Caused by: java.lang.ClassCastException: com.google.javascript.rhino.jstype.UnionType cannot be cast to com.google.javascript.rhino.jstype.ObjectType\r\n",
      "23: java.lang.NullPointerException\r\n",
      "ERROR\r\n",
      "\r\n",
      "Exception\n",
      "java.lang.RuntimeException: java.lang.RuntimeException: java.lang.StackOverflowError\r\n",
      "Caused by: java.lang.RuntimeException: java.lang.StackOverflowError\r\n",
      "Caused by: java.lang.RuntimeException: INTERNAL COMPILER ERROR.\r\n",
      "java.lang.RuntimeException: java.lang.IllegalStateException: Expected function but was call Reference node CALL 128 [free_call: 1] [source_file: Settings.js]\r\n",
      "Caused by: java.lang.IllegalStateException: Expected function but was call Reference node CALL 128 [free_call: 1] [source_file: Settings.js]\r\n",
      "java.lang.ArrayIndexOutOfBoundsException: 2\n",
      "java.lang.NullPointerException\n",
      "java.io.EOFException\n",
      "java.lang.IllegalArgumentException: Invalid byte -1 at offset 7 in '<some bytes>' len=8\n",
      "java.io.IOException: Error detected parsing the header\n",
      "Caused by: java.lang.IllegalArgumentException: Invalid byte 0 at offset 0 in '{NUL}1722000726 ' len=12\n",
      "java.lang.IllegalArgumentException: Invalid byte 0 at offset 5 in '01750{NUL}{NUL}{NUL}' len=8\n",
      "java.io.IOException: request to write '114' bytes exceeds size in header of '0' bytes for entry './PaxHeaders.X/layers/openstreetmap__osm.disy.net/.tiles/1.0.0/openstreetmap__osm.disy.net/default/'\n",
      "\n",
      "\n",
      "\n",
      "\n",
      "\n",
      "\n",
      "\n",
      "\n",
      "\n",
      "\n",
      "\n",
      "\n",
      "\n",
      "\n",
      "\n",
      "\n",
      "\n",
      "\n",
      "\n",
      "\n",
      "org.tukaani.xz.UnsupportedOptionsException: LZMA dictionary is too big for this implementation\n",
      "[1] java.lang.NumberFormatException: For input string: \"4294967294\"\n",
      "java.lang.IllegalArgumentException: The header contains a duplicate name: \"\" in [A, B, C, , ]\n",
      "Caused by: java.lang.NullPointerException\n",
      "java.lang.ArrayIndexOutOfBoundsException: -1\n",
      "ERROR IN\n",
      "ERROR IN\n",
      "ERROR IN\n",
      "ERROR IN\n",
      "04-12 21:38:04.239 7803-7803/ionspin.com.unsafetest E/MainActivity: java.lang.reflect.InvocationTargetException\n",
      "java.lang.ArrayIndexOutOfBoundsException\n",
      "Caused by: com.fasterxml.jackson.core.JsonGenerationException: Can not write a field name, expecting a value\n",
      "Exception in thread \"main\" com.fasterxml.jackson.databind.JsonMappingException: Can not deserialize instance of com.fasterxml.jackson.databind.node.ObjectNode out of END_OBJECT token\n",
      " at [Source: {}; line: 1, column: 2]\n",
      "Exception in thread \"main\" com.fasterxml.jackson.databind.JsonMappingException: Can not deserialize instance of java.lang.Object out of END_OBJECT token\n",
      " at [Source: {}; line: 1, column: 2]\n",
      " at [Source: file:/var/lib/tomcat8/webapps/ROOT/WEB-INF/classes/layoutData/layouts.smile; line: -1, column: 3700060]\n",
      "Caused by: java.lang.IllegalArgumentException: Class java.lang.Long not subtype of [simple type, class long]\n",
      " at [Source: { \"intField\": 1, \"stringField\": \"foo\" }; line: 1, column: 1]\n",
      "java.util.NoSuchElementException: No entry 'businessAddress' found, can't remove\n",
      "java.lang.ArrayIndexOutOfBoundsException: -1\n",
      "\n",
      "com.fasterxml.jackson.databind.exc.InvalidFormatException: Can not construct     Map key of type java.lang.Class from String \"class java.util.ArrayList\": not a valid representation: Can not construct Map key of type java.lang.Class from String \"class java.util.ArrayList\": unable to parse key as Class\n",
      " at [Source: ...\n",
      "java.lang.NullPointerException\n",
      "Exception in thread \"main\" com.fasterxml.jackson.databind.JsonMappingException: Can not construct instance of enum.Invite, problem: argument type mismatch\n",
      " at [Source: {\n",
      "Caused by: java.lang.IllegalArgumentException: argument type mismatch\n",
      "java.lang.ArrayIndexOutOfBoundsException: 8666\n",
      "java.lang.StringIndexOutOfBoundsException: String index out of range: 13\n",
      "Exception in thread \"main\" org.w3c.dom.DOMException: INVALID_CHARACTER_ERR: An invalid or illegal XML character is specified. \n",
      "java.lang.StringIndexOutOfBoundsException: String index out of range: 1\n",
      "Caused by org.jsoup.c: java.io.IOException: Underlying input stream returned zero bytes\n",
      "org.jsoup.UncheckedIOException: java.io.IOException: Underlying input stream returned zero bytes\n",
      "java.lang.IndexOutOfBoundsException: Index: 0, Size: 0\n",
      "\n",
      "Exception in thread \"main\" java.lang.UnsupportedOperationException\n",
      "org.w3c.dom.DOMException\n",
      "Caused by: java.lang.ArrayIndexOutOfBoundsException: 11\n",
      "org.apache.commons.jxpath.JXPathException: Cannot compare pointers that do not belong to the same tree: '$var' and ''\n",
      "java.lang.ArrayStoreException\n",
      "java.lang.StringIndexOutOfBoundsException: String index out of range: 2\n",
      "java.lang.ArrayIndexOutOfBoundsException\n",
      "java.lang.ArrayIndexOutOfBoundsException\n",
      "Exception in thread \"main\" org.apache.commons.math.MathRuntimeException$6: map has been modified while iterating\n",
      "java.lang.NullPointerException\n",
      "java.lang.ArrayIndexOutOfBoundsException: -1\n",
      "java.lang.IllegalArgumentException: Function values at endpoints do not have different signs.  Endpoints: [-100000.0,1.7976931348623157E308]  Values: [0.0,-101945.04630982173]\n",
      "Caused by: java.lang.ClassNotFoundException: junit.framework.ComparisonFailure\n",
      "Caused by: java.lang.ClassNotFoundException: junit.framework.ComparisonFailure\n",
      "java.lang.NullPointerException\n",
      "Caused by: java.lang.ClassNotFoundException: classes with prefix : [junit, org.junit] are excluded\n",
      "Caused by: java.lang.ClassNotFoundException: classes with prefix : [junit, org.junit] are excluded\n",
      "java.lang.ClassCastException: java.lang.Boolean cannot be cast to java.lang.String\n",
      "Caused by: java.lang.ClassNotFoundException: junit.framework.ComparisonFailure\n",
      "Caused by: java.lang.ClassNotFoundException: junit.framework.ComparisonFailure\n",
      "org.joda.time.IllegalFieldValueException: Value 29 for dayOfMonth must be in the range [1,28]\n",
      "org.joda.time.IllegalFieldValueException: Value 29 for dayOfMonth must be in the range [1,28]\n"
     ]
    }
   ],
   "source": [
    "def get_file_name_from_stack_trace(stack_trace_entry):\n",
    "    try: #  Treating exceptions such as Unknow Source and Native Method\n",
    "        parentheses_opening_index = stack_trace_entry.index('(')\n",
    "        colon_index = stack_trace_entry.index(':',parentheses_opening_index + 1)\n",
    "        file_name = stack_trace_entry[parentheses_opening_index + 1 : colon_index]\n",
    "    except:\n",
    "        parentheses_opening_index = stack_trace_entry.index('(')\n",
    "        parentheses_closing_index = stack_trace_entry.index(')',parentheses_opening_index + 1)\n",
    "        file_name = stack_trace_entry[parentheses_opening_index + 1 : parentheses_closing_index]\n",
    "    return file_name\n",
    "\n",
    "def get_method_name_from_stack_trace(stack_trace_entry):\n",
    "    parentheses_opening_index = stack_trace_entry.index('(')\n",
    "    stack_trace_entry = stack_trace_entry[:parentheses_opening_index]\n",
    "    last_dot_index = stack_trace_entry.rfind(\".\")\n",
    "    method_name = stack_trace_entry[last_dot_index + 1 : ]\n",
    "    return method_name\n",
    "\n",
    "bugs_data = json_file_to_dict(data_file_path)\n",
    "for project in bugs_data.keys():\n",
    "    for bug_id in bugs_data[project].keys():\n",
    "        stack_trace_entries = []\n",
    "        for stack_trace in bugs_data[project][bug_id][\"log\"]:\n",
    "            stack_trace_entries += stack_trace.replace(\"\\t\", \"\").split(\"\\n\")\n",
    "        st_methods = []\n",
    "        st_files = []\n",
    "        for st_entry in stack_trace_entries:\n",
    "            try:\n",
    "                method_name = get_method_name_from_stack_trace(st_entry)\n",
    "                file_name = get_file_name_from_stack_trace(st_entry)\n",
    "                st_methods.append(method_name)\n",
    "                st_files.append(file_name)\n",
    "            except:\n",
    "                print(st_entry)\n",
    "        bugs_data[project][bug_id][\"stack_trace_methods\"] = st_methods\n",
    "        bugs_data[project][bug_id][\"stack_trace_files\"] = st_files\n",
    "dict_to_json_file(data_file_path,bugs_data)"
   ],
   "metadata": {
    "collapsed": false
   }
  },
  {
   "cell_type": "code",
   "execution_count": null,
   "outputs": [],
   "source": [],
   "metadata": {
    "collapsed": false
   }
  }
 ],
 "metadata": {
  "kernelspec": {
   "display_name": "Python 3",
   "language": "python",
   "name": "python3"
  },
  "language_info": {
   "codemirror_mode": {
    "name": "ipython",
    "version": 2
   },
   "file_extension": ".py",
   "mimetype": "text/x-python",
   "name": "python",
   "nbconvert_exporter": "python",
   "pygments_lexer": "ipython2",
   "version": "2.7.6"
  }
 },
 "nbformat": 4,
 "nbformat_minor": 0
}
