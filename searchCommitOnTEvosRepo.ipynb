{
 "cells": [
  {
   "cell_type": "markdown",
   "id": "ed23e2b0-279f-42d8-982b-7a7fed633e47",
   "metadata": {},
   "source": [
    "#### **Var definitions**\n",
    "Change it whenever necessary"
   ]
  },
  {
   "cell_type": "code",
   "execution_count": 45,
   "id": "d68c7be0-b38a-4bd8-9662-e6d15f2be5aa",
   "metadata": {},
   "outputs": [],
   "source": [
    "repo_name = \"junit4\"\n",
    "tevos_folder_name = \"T-Evos/\"\n",
    "base_path = '/Users/lorenapacheco/Concordia/Masters/'"
   ]
  },
  {
   "cell_type": "markdown",
   "id": "e5ad3a27-3680-49a6-9aae-83d1e53022a5",
   "metadata": {},
   "source": [
    "#### **Commits search**\n",
    "\n",
    "Search commits obtained by the other scripts on TEvos repo"
   ]
  },
  {
   "cell_type": "code",
   "execution_count": 46,
   "id": "67e345b6-b6bc-4355-bef8-0c859a7df0cd",
   "metadata": {},
   "outputs": [
    {
     "name": "stdout",
     "output_type": "stream",
     "text": [
      "[['1178', 'e6a20043db694056ac00456f6076091012ecba87', 'c07965ab1b232b04a13ea84fdbcdd8be04ea0182'], ['1189', '25495b3e91e346121e3292e8e01a3cc085b644f3', 'ee4403455a9573a67668da695fea223f77606326'], ['1213', 'a25189631a9eb551a1ac961ca4d2c2db37a687a0', '25495b3e91e346121e3292e8e01a3cc085b644f3']]\n",
      "\n",
      "\n",
      "3 bug report commits found on TEvos\n"
     ]
    }
   ],
   "source": [
    "import re\n",
    "import os\n",
    "import glob\n",
    "import json\n",
    "from jsonmerge import merge\n",
    "\n",
    "tevos_search_path = base_path + tevos_folder_name + repo_name + \"/active_tests/\"\n",
    "commits_result_path = base_path + \"BugReportsMining/\" + \"commits/\" + repo_name\n",
    "\n",
    "def json_file_to_dict(file, folder):\n",
    "    data = {}\n",
    "    with open(os.path.join(folder, file+'.json'), 'r') as fp:\n",
    "        data = json.load(fp)\n",
    "    fp.close()\n",
    "    return data\n",
    "\n",
    "\n",
    "def dict_to_json_file(file, dic, folder):\n",
    "    if not os.path.exists(folder):\n",
    "        os.makedirs(folder)\n",
    "    with open(os.path.join(folder, file+'.json'), 'w') as fp:\n",
    "        json.dump(dic, fp, sort_keys=True, indent=4)\n",
    "    fp.close()\n",
    "\n",
    "commit_result = []\n",
    "for file in glob.glob(commits_result_path +'/*.json'):\n",
    "    file_name = os.path.basename(file).replace('.json', '')\n",
    "    result = json_file_to_dict(file.replace('.json', ''), commits_result_path)\n",
    "    for key in result.keys():\n",
    "        commit_result.append([key, result[key][\"commit\"], result[key][\"previous_commit\"]])\n",
    "\n",
    "bug_reports_on_tevos = []\n",
    "for commits in commit_result:\n",
    "    key = commits[0]\n",
    "    commit = commits[1]\n",
    "    previous_commit = commits[2]\n",
    "    commit_file = glob.glob(tevos_search_path + commit +'.json')\n",
    "    if commit_file:\n",
    "        previous_commit_file = glob.glob(tevos_search_path + previous_commit +'.json')\n",
    "        if previous_commit_file:\n",
    "            bug_reports_on_tevos.append([key, commit, previous_commit])\n",
    "\n",
    "print(bug_reports_on_tevos)\n",
    "print('\\n')\n",
    "print(str(len(bug_reports_on_tevos))+ \" bug report commits found on TEvos\")\n",
    "    \n",
    "    "
   ]
  },
  {
   "cell_type": "code",
   "execution_count": null,
   "id": "20121885-efc6-431d-8d3b-9467ac09f585",
   "metadata": {},
   "outputs": [],
   "source": []
  },
  {
   "cell_type": "code",
   "execution_count": null,
   "id": "4a88e489-793b-4623-9a3e-00522ab39ac5",
   "metadata": {},
   "outputs": [],
   "source": []
  }
 ],
 "metadata": {
  "kernelspec": {
   "display_name": "Python 3 (ipykernel)",
   "language": "python",
   "name": "python3"
  },
  "language_info": {
   "codemirror_mode": {
    "name": "ipython",
    "version": 3
   },
   "file_extension": ".py",
   "mimetype": "text/x-python",
   "name": "python",
   "nbconvert_exporter": "python",
   "pygments_lexer": "ipython3",
   "version": "3.10.6"
  }
 },
 "nbformat": 4,
 "nbformat_minor": 5
}
